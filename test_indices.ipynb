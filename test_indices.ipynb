{
 "cells": [
  {
   "cell_type": "code",
   "execution_count": 2,
   "metadata": {},
   "outputs": [],
   "source": [
    "# ensure classes imported from .py files are dynamically updated\n",
    "%load_ext autoreload\n",
    "%autoreload 2\n",
    "\n",
    "# plot matplots nicely\n",
    "%matplotlib inline  "
   ]
  },
  {
   "cell_type": "code",
   "execution_count": 3,
   "metadata": {},
   "outputs": [],
   "source": [
    "import numpy as np\n",
    "import pandas as pd\n",
    "import datetime\n",
    "import xarray as xr\n",
    "from dateutil.relativedelta import relativedelta\n",
    "from climate_drought import config, drought_indices as dri, utils"
   ]
  },
  {
   "cell_type": "code",
   "execution_count": 4,
   "metadata": {},
   "outputs": [],
   "source": [
    "# configure inputs\n",
    "aa = config.AnalysisArgs(latitude=35,longitude=-120,start_date='20200116',end_date='20200410')\n",
    "cf = config.Config(outdir= 'output',indir='input',verbose=False)\n",
    "#cdi = dri.CDI(cf,aa)"
   ]
  },
  {
   "cell_type": "code",
   "execution_count": 6,
   "metadata": {},
   "outputs": [
    {
     "name": "stderr",
     "output_type": "stream",
     "text": [
      "2023-04-17  08:59:04 INFO Downloaded file 'output\\precip_19850101-20221231_monthly_35_-120.nc' already exists.\n",
      "2023-04-17  08:59:04 INFO Initiating processing of ERA5 daily data.\n",
      "2023-04-17  08:59:05 INFO Input precipitation, 456 values: 0.000 0.012 \n",
      "2023-04-17  08:59:05 INFO \n",
      "\n",
      "2023-04-17  08:59:06 DEBUG scaled values: 0.000 0.017\n",
      "2023-04-17  08:59:07 DEBUG alphas: 0.949 3.479 betas: 0.000 0.003\n",
      "2023-04-17  08:59:09 INFO SPI, 456 values: -3.081 3.090\n"
     ]
    },
    {
     "data": {
      "text/html": [
       "<div>\n",
       "<style scoped>\n",
       "    .dataframe tbody tr th:only-of-type {\n",
       "        vertical-align: middle;\n",
       "    }\n",
       "\n",
       "    .dataframe tbody tr th {\n",
       "        vertical-align: top;\n",
       "    }\n",
       "\n",
       "    .dataframe thead th {\n",
       "        text-align: right;\n",
       "    }\n",
       "</style>\n",
       "<table border=\"1\" class=\"dataframe\">\n",
       "  <thead>\n",
       "    <tr style=\"text-align: right;\">\n",
       "      <th></th>\n",
       "      <th>tp</th>\n",
       "      <th>spi</th>\n",
       "    </tr>\n",
       "    <tr>\n",
       "      <th>time</th>\n",
       "      <th></th>\n",
       "      <th></th>\n",
       "    </tr>\n",
       "  </thead>\n",
       "  <tbody>\n",
       "    <tr>\n",
       "      <th>2020-02-01</th>\n",
       "      <td>0.000179</td>\n",
       "      <td>-0.983137</td>\n",
       "    </tr>\n",
       "    <tr>\n",
       "      <th>2020-03-01</th>\n",
       "      <td>0.003710</td>\n",
       "      <td>-0.540281</td>\n",
       "    </tr>\n",
       "    <tr>\n",
       "      <th>2020-04-01</th>\n",
       "      <td>0.002878</td>\n",
       "      <td>0.469652</td>\n",
       "    </tr>\n",
       "  </tbody>\n",
       "</table>\n",
       "</div>"
      ],
      "text/plain": [
       "                  tp       spi\n",
       "time                          \n",
       "2020-02-01  0.000179 -0.983137\n",
       "2020-03-01  0.003710 -0.540281\n",
       "2020-04-01  0.002878  0.469652"
      ]
     },
     "execution_count": 6,
     "metadata": {},
     "output_type": "execute_result"
    }
   ],
   "source": [
    "spi = dri.SPI(cf,aa)\n",
    "spi.download()\n",
    "spi.process()"
   ]
  },
  {
   "cell_type": "code",
   "execution_count": 8,
   "metadata": {},
   "outputs": [
    {
     "name": "stderr",
     "output_type": "stream",
     "text": [
      "2023-04-17  08:59:47 INFO Downloaded files available.\n",
      "2023-04-17  08:59:49 INFO Completed processing of ERA5 soil water data.\n"
     ]
    },
    {
     "data": {
      "text/html": [
       "<div>\n",
       "<style scoped>\n",
       "    .dataframe tbody tr th:only-of-type {\n",
       "        vertical-align: middle;\n",
       "    }\n",
       "\n",
       "    .dataframe tbody tr th {\n",
       "        vertical-align: top;\n",
       "    }\n",
       "\n",
       "    .dataframe thead th {\n",
       "        text-align: right;\n",
       "    }\n",
       "</style>\n",
       "<table border=\"1\" class=\"dataframe\">\n",
       "  <thead>\n",
       "    <tr style=\"text-align: right;\">\n",
       "      <th></th>\n",
       "      <th>smant</th>\n",
       "    </tr>\n",
       "  </thead>\n",
       "  <tbody>\n",
       "    <tr>\n",
       "      <th>2020-01-11</th>\n",
       "      <td>NaN</td>\n",
       "    </tr>\n",
       "    <tr>\n",
       "      <th>2020-01-21</th>\n",
       "      <td>-0.79</td>\n",
       "    </tr>\n",
       "    <tr>\n",
       "      <th>2020-02-01</th>\n",
       "      <td>-1.40</td>\n",
       "    </tr>\n",
       "    <tr>\n",
       "      <th>2020-02-11</th>\n",
       "      <td>-2.19</td>\n",
       "    </tr>\n",
       "    <tr>\n",
       "      <th>2020-02-21</th>\n",
       "      <td>-2.31</td>\n",
       "    </tr>\n",
       "    <tr>\n",
       "      <th>2020-03-01</th>\n",
       "      <td>-2.33</td>\n",
       "    </tr>\n",
       "    <tr>\n",
       "      <th>2020-03-11</th>\n",
       "      <td>-1.67</td>\n",
       "    </tr>\n",
       "    <tr>\n",
       "      <th>2020-03-21</th>\n",
       "      <td>-0.29</td>\n",
       "    </tr>\n",
       "    <tr>\n",
       "      <th>2020-04-01</th>\n",
       "      <td>0.83</td>\n",
       "    </tr>\n",
       "  </tbody>\n",
       "</table>\n",
       "</div>"
      ],
      "text/plain": [
       "            smant\n",
       "2020-01-11    NaN\n",
       "2020-01-21  -0.79\n",
       "2020-02-01  -1.40\n",
       "2020-02-11  -2.19\n",
       "2020-02-21  -2.31\n",
       "2020-03-01  -2.33\n",
       "2020-03-11  -1.67\n",
       "2020-03-21  -0.29\n",
       "2020-04-01   0.83"
      ]
     },
     "execution_count": 8,
     "metadata": {},
     "output_type": "execute_result"
    }
   ],
   "source": [
    "sma_edo = dri.SMA_GDO(cf,aa)\n",
    "sma_edo.download()\n",
    "sma_edo.process()"
   ]
  },
  {
   "cell_type": "code",
   "execution_count": 10,
   "metadata": {},
   "outputs": [
    {
     "ename": "IndentationError",
     "evalue": "unexpected indent (202300053.py, line 2)",
     "output_type": "error",
     "traceback": [
      "\u001b[1;36m  Cell \u001b[1;32mIn[10], line 2\u001b[1;36m\u001b[0m\n\u001b[1;33m    fpr.process()\u001b[0m\n\u001b[1;37m    ^\u001b[0m\n\u001b[1;31mIndentationError\u001b[0m\u001b[1;31m:\u001b[0m unexpected indent\n"
     ]
    }
   ],
   "source": [
    "fpr = dri.FPAR_EDO(cf,aa)\n",
    "fpr.process()\n",
    "fpr.process()"
   ]
  },
  {
   "cell_type": "code",
   "execution_count": 46,
   "metadata": {},
   "outputs": [],
   "source": [
    "cdi = dri.CDI(cf,aa,spi=spi,sma=sma,fpr=fpr)"
   ]
  },
  {
   "cell_type": "code",
   "execution_count": 55,
   "metadata": {},
   "outputs": [],
   "source": [
    "shift_date = lambda arr, n: np.pad(arr[:-n],(n,0),'constant',constant_values=(np.nan,))\n",
    "idx_np = lambda df: df.to_numpy().flatten()"
   ]
  },
  {
   "cell_type": "code",
   "execution_count": 63,
   "metadata": {},
   "outputs": [],
   "source": [
    "spi_cdi = idx_np(spi.data).repeat(3)\n",
    "spi_tme = idx_np(spi.data.index).repeat(3)\n",
    "spi_cdi = shift_date(spi_cdi,3)\n",
    "spi_tme = shift_date(spi_tme,3)"
   ]
  },
  {
   "cell_type": "code",
   "execution_count": 72,
   "metadata": {},
   "outputs": [
    {
     "data": {
      "text/plain": [
       "Timestamp('2020-01-11 00:00:00')"
      ]
     },
     "execution_count": 72,
     "metadata": {},
     "output_type": "execute_result"
    }
   ],
   "source": [
    "spi.data.index[0] + datetime.timedelta(days=10)"
   ]
  },
  {
   "cell_type": "code",
   "execution_count": 53,
   "metadata": {},
   "outputs": [
    {
     "data": {
      "text/plain": [
       "array([   nan,  0.726,  0.722,  0.521,  0.344, -0.011, -0.188, -0.535,\n",
       "       -0.55 , -0.588], dtype=float32)"
      ]
     },
     "execution_count": 53,
     "metadata": {},
     "output_type": "execute_result"
    }
   ],
   "source": [
    "\n",
    "\n",
    "        # ------ SPI ------ :\n",
    "        df_spi = self.spi.process() if len(self.spi.data) == 0 else self.spi.data\n",
    "        self.df_spi = df_spi\n",
    "\n",
    "        # Convert to dekads for consistency with other timeseries\n",
    "        # Use the same value 3 times a month for each dekad\n",
    "        \n",
    "\n",
    "        # Shift backwards by 3 dekads\n",
    "        \n",
    "        self.spi_np = spi\n",
    "        \n",
    "        # ------ SMA ------\n",
    "        df_sma = self.sma.process() if len(self.sma.data) == 0 else self.sma.data\n",
    "\n",
    "        # Shift backwards by 2 dekads\n",
    "        sma = shift_date(idx_np(df_sma),2)\n",
    "        self.sma_np = sma"
   ]
  },
  {
   "cell_type": "code",
   "execution_count": 52,
   "metadata": {},
   "outputs": [
    {
     "data": {
      "text/plain": [
       "array([        nan,         nan,         nan, -0.02924945, -0.02924945,\n",
       "       -0.02924945, -0.98313719, -0.98313719, -0.98313719, -0.54028095,\n",
       "       -0.54028095, -0.54028095])"
      ]
     },
     "execution_count": 52,
     "metadata": {},
     "output_type": "execute_result"
    }
   ],
   "source": [
    "cdi.spi_np"
   ]
  },
  {
   "cell_type": "code",
   "execution_count": 47,
   "metadata": {},
   "outputs": [
    {
     "name": "stderr",
     "output_type": "stream",
     "text": [
      "2023-04-14  12:31:59 INFO Computing Combined Drought Indicator...\n",
      "2023-04-14  12:32:01 INFO Completed processing of ERA5 soil water data.\n"
     ]
    },
    {
     "ename": "ValueError",
     "evalue": "Length of values (12) does not match length of index (10)",
     "output_type": "error",
     "traceback": [
      "\u001b[1;31m---------------------------------------------------------------------------\u001b[0m",
      "\u001b[1;31mValueError\u001b[0m                                Traceback (most recent call last)",
      "Cell \u001b[1;32mIn[47], line 1\u001b[0m\n\u001b[1;32m----> 1\u001b[0m cdi\u001b[39m.\u001b[39;49mprocess()\n",
      "File \u001b[1;32mc:\\Users\\eejco\\pixalytics\\Climate-drought\\climate_drought\\drought_indices.py:587\u001b[0m, in \u001b[0;36mCDI.process\u001b[1;34m(self)\u001b[0m\n\u001b[0;32m    584\u001b[0m         cdi\u001b[39m.\u001b[39mappend(\u001b[39m0\u001b[39m) \u001b[39m# normal\u001b[39;00m\n\u001b[0;32m    586\u001b[0m \u001b[39m# convert back to dataframe and combine with others\u001b[39;00m\n\u001b[1;32m--> 587\u001b[0m df \u001b[39m=\u001b[39m pd\u001b[39m.\u001b[39;49mDataFrame({\u001b[39m'\u001b[39;49m\u001b[39mSPI\u001b[39;49m\u001b[39m'\u001b[39;49m:spi,\u001b[39m'\u001b[39;49m\u001b[39mSMA\u001b[39;49m\u001b[39m'\u001b[39;49m:sma,\u001b[39m'\u001b[39;49m\u001b[39mfAPAR\u001b[39;49m\u001b[39m'\u001b[39;49m:fpr,\u001b[39m'\u001b[39;49m\u001b[39mCDI\u001b[39;49m\u001b[39m'\u001b[39;49m:cdi},index\u001b[39m=\u001b[39;49mtime_dekads)\n\u001b[0;32m    589\u001b[0m \u001b[39m# Output to JSON\u001b[39;00m\n\u001b[0;32m    590\u001b[0m \u001b[39mif\u001b[39;00m \u001b[39mnot\u001b[39;00m os\u001b[39m.\u001b[39mpath\u001b[39m.\u001b[39misfile(\u001b[39mself\u001b[39m\u001b[39m.\u001b[39moutput_file_path):\n",
      "File \u001b[1;32mc:\\Users\\eejco\\Anaconda3\\envs\\climate_env\\lib\\site-packages\\pandas\\core\\frame.py:664\u001b[0m, in \u001b[0;36mDataFrame.__init__\u001b[1;34m(self, data, index, columns, dtype, copy)\u001b[0m\n\u001b[0;32m    658\u001b[0m     mgr \u001b[39m=\u001b[39m \u001b[39mself\u001b[39m\u001b[39m.\u001b[39m_init_mgr(\n\u001b[0;32m    659\u001b[0m         data, axes\u001b[39m=\u001b[39m{\u001b[39m\"\u001b[39m\u001b[39mindex\u001b[39m\u001b[39m\"\u001b[39m: index, \u001b[39m\"\u001b[39m\u001b[39mcolumns\u001b[39m\u001b[39m\"\u001b[39m: columns}, dtype\u001b[39m=\u001b[39mdtype, copy\u001b[39m=\u001b[39mcopy\n\u001b[0;32m    660\u001b[0m     )\n\u001b[0;32m    662\u001b[0m \u001b[39melif\u001b[39;00m \u001b[39misinstance\u001b[39m(data, \u001b[39mdict\u001b[39m):\n\u001b[0;32m    663\u001b[0m     \u001b[39m# GH#38939 de facto copy defaults to False only in non-dict cases\u001b[39;00m\n\u001b[1;32m--> 664\u001b[0m     mgr \u001b[39m=\u001b[39m dict_to_mgr(data, index, columns, dtype\u001b[39m=\u001b[39;49mdtype, copy\u001b[39m=\u001b[39;49mcopy, typ\u001b[39m=\u001b[39;49mmanager)\n\u001b[0;32m    665\u001b[0m \u001b[39melif\u001b[39;00m \u001b[39misinstance\u001b[39m(data, ma\u001b[39m.\u001b[39mMaskedArray):\n\u001b[0;32m    666\u001b[0m     \u001b[39mimport\u001b[39;00m \u001b[39mnumpy\u001b[39;00m\u001b[39m.\u001b[39;00m\u001b[39mma\u001b[39;00m\u001b[39m.\u001b[39;00m\u001b[39mmrecords\u001b[39;00m \u001b[39mas\u001b[39;00m \u001b[39mmrecords\u001b[39;00m\n",
      "File \u001b[1;32mc:\\Users\\eejco\\Anaconda3\\envs\\climate_env\\lib\\site-packages\\pandas\\core\\internals\\construction.py:493\u001b[0m, in \u001b[0;36mdict_to_mgr\u001b[1;34m(data, index, columns, dtype, typ, copy)\u001b[0m\n\u001b[0;32m    489\u001b[0m     \u001b[39melse\u001b[39;00m:\n\u001b[0;32m    490\u001b[0m         \u001b[39m# dtype check to exclude e.g. range objects, scalars\u001b[39;00m\n\u001b[0;32m    491\u001b[0m         arrays \u001b[39m=\u001b[39m [x\u001b[39m.\u001b[39mcopy() \u001b[39mif\u001b[39;00m \u001b[39mhasattr\u001b[39m(x, \u001b[39m\"\u001b[39m\u001b[39mdtype\u001b[39m\u001b[39m\"\u001b[39m) \u001b[39melse\u001b[39;00m x \u001b[39mfor\u001b[39;00m x \u001b[39min\u001b[39;00m arrays]\n\u001b[1;32m--> 493\u001b[0m \u001b[39mreturn\u001b[39;00m arrays_to_mgr(arrays, columns, index, dtype\u001b[39m=\u001b[39;49mdtype, typ\u001b[39m=\u001b[39;49mtyp, consolidate\u001b[39m=\u001b[39;49mcopy)\n",
      "File \u001b[1;32mc:\\Users\\eejco\\Anaconda3\\envs\\climate_env\\lib\\site-packages\\pandas\\core\\internals\\construction.py:123\u001b[0m, in \u001b[0;36marrays_to_mgr\u001b[1;34m(arrays, columns, index, dtype, verify_integrity, typ, consolidate)\u001b[0m\n\u001b[0;32m    120\u001b[0m         index \u001b[39m=\u001b[39m ensure_index(index)\n\u001b[0;32m    122\u001b[0m     \u001b[39m# don't force copy because getting jammed in an ndarray anyway\u001b[39;00m\n\u001b[1;32m--> 123\u001b[0m     arrays \u001b[39m=\u001b[39m _homogenize(arrays, index, dtype)\n\u001b[0;32m    124\u001b[0m     \u001b[39m# _homogenize ensures\u001b[39;00m\n\u001b[0;32m    125\u001b[0m     \u001b[39m#  - all(len(x) == len(index) for x in arrays)\u001b[39;00m\n\u001b[0;32m    126\u001b[0m     \u001b[39m#  - all(x.ndim == 1 for x in arrays)\u001b[39;00m\n\u001b[1;32m   (...)\u001b[0m\n\u001b[0;32m    129\u001b[0m \n\u001b[0;32m    130\u001b[0m \u001b[39melse\u001b[39;00m:\n\u001b[0;32m    131\u001b[0m     index \u001b[39m=\u001b[39m ensure_index(index)\n",
      "File \u001b[1;32mc:\\Users\\eejco\\Anaconda3\\envs\\climate_env\\lib\\site-packages\\pandas\\core\\internals\\construction.py:620\u001b[0m, in \u001b[0;36m_homogenize\u001b[1;34m(data, index, dtype)\u001b[0m\n\u001b[0;32m    615\u001b[0m             val \u001b[39m=\u001b[39m lib\u001b[39m.\u001b[39mfast_multiget(val, oindex\u001b[39m.\u001b[39m_values, default\u001b[39m=\u001b[39mnp\u001b[39m.\u001b[39mnan)\n\u001b[0;32m    617\u001b[0m         val \u001b[39m=\u001b[39m sanitize_array(\n\u001b[0;32m    618\u001b[0m             val, index, dtype\u001b[39m=\u001b[39mdtype, copy\u001b[39m=\u001b[39m\u001b[39mFalse\u001b[39;00m, raise_cast_failure\u001b[39m=\u001b[39m\u001b[39mFalse\u001b[39;00m\n\u001b[0;32m    619\u001b[0m         )\n\u001b[1;32m--> 620\u001b[0m         com\u001b[39m.\u001b[39;49mrequire_length_match(val, index)\n\u001b[0;32m    622\u001b[0m     homogenized\u001b[39m.\u001b[39mappend(val)\n\u001b[0;32m    624\u001b[0m \u001b[39mreturn\u001b[39;00m homogenized\n",
      "File \u001b[1;32mc:\\Users\\eejco\\Anaconda3\\envs\\climate_env\\lib\\site-packages\\pandas\\core\\common.py:571\u001b[0m, in \u001b[0;36mrequire_length_match\u001b[1;34m(data, index)\u001b[0m\n\u001b[0;32m    567\u001b[0m \u001b[39m\u001b[39m\u001b[39m\"\"\"\u001b[39;00m\n\u001b[0;32m    568\u001b[0m \u001b[39mCheck the length of data matches the length of the index.\u001b[39;00m\n\u001b[0;32m    569\u001b[0m \u001b[39m\"\"\"\u001b[39;00m\n\u001b[0;32m    570\u001b[0m \u001b[39mif\u001b[39;00m \u001b[39mlen\u001b[39m(data) \u001b[39m!=\u001b[39m \u001b[39mlen\u001b[39m(index):\n\u001b[1;32m--> 571\u001b[0m     \u001b[39mraise\u001b[39;00m \u001b[39mValueError\u001b[39;00m(\n\u001b[0;32m    572\u001b[0m         \u001b[39m\"\u001b[39m\u001b[39mLength of values \u001b[39m\u001b[39m\"\u001b[39m\n\u001b[0;32m    573\u001b[0m         \u001b[39mf\u001b[39m\u001b[39m\"\u001b[39m\u001b[39m(\u001b[39m\u001b[39m{\u001b[39;00m\u001b[39mlen\u001b[39m(data)\u001b[39m}\u001b[39;00m\u001b[39m) \u001b[39m\u001b[39m\"\u001b[39m\n\u001b[0;32m    574\u001b[0m         \u001b[39m\"\u001b[39m\u001b[39mdoes not match length of index \u001b[39m\u001b[39m\"\u001b[39m\n\u001b[0;32m    575\u001b[0m         \u001b[39mf\u001b[39m\u001b[39m\"\u001b[39m\u001b[39m(\u001b[39m\u001b[39m{\u001b[39;00m\u001b[39mlen\u001b[39m(index)\u001b[39m}\u001b[39;00m\u001b[39m)\u001b[39m\u001b[39m\"\u001b[39m\n\u001b[0;32m    576\u001b[0m     )\n",
      "\u001b[1;31mValueError\u001b[0m: Length of values (12) does not match length of index (10)"
     ]
    }
   ],
   "source": [
    "cdi.process()"
   ]
  },
  {
   "cell_type": "code",
   "execution_count": 67,
   "metadata": {},
   "outputs": [
    {
     "name": "stderr",
     "output_type": "stream",
     "text": [
      "2023-04-05  13:22:58 INFO Initiating processing of ERA5 daily data.\n",
      "2023-04-05  13:22:58 INFO Input precipitation, 456 values: 0.000 0.005 \n",
      "2023-04-05  13:22:58 INFO \n",
      "\n",
      "2023-04-05  13:22:58 DEBUG scaled values: 0.002 0.012\n",
      "2023-04-05  13:22:58 DEBUG alphas: 9.687 17.504 betas: 0.000 0.001\n",
      "2023-04-05  13:22:58 INFO SPI, 456 values: -3.046 2.676\n",
      "2023-04-05  13:23:00 INFO Completed processing of ERA5 soil water data.\n",
      "2023-04-05  13:23:02 INFO Completed processing of ERA5 fAPAR data.\n"
     ]
    }
   ],
   "source": [
    "df_spi = cdi.spi.process()\n",
    "df_sma = cdi.sma.process()\n",
    "df_fpr = cdi.fpr.process()\n"
   ]
  },
  {
   "cell_type": "code",
   "execution_count": 85,
   "metadata": {},
   "outputs": [
    {
     "data": {
      "text/html": [
       "<div>\n",
       "<style scoped>\n",
       "    .dataframe tbody tr th:only-of-type {\n",
       "        vertical-align: middle;\n",
       "    }\n",
       "\n",
       "    .dataframe tbody tr th {\n",
       "        vertical-align: top;\n",
       "    }\n",
       "\n",
       "    .dataframe thead th {\n",
       "        text-align: right;\n",
       "    }\n",
       "</style>\n",
       "<table border=\"1\" class=\"dataframe\">\n",
       "  <thead>\n",
       "    <tr style=\"text-align: right;\">\n",
       "      <th></th>\n",
       "      <th>smant</th>\n",
       "    </tr>\n",
       "    <tr>\n",
       "      <th>time</th>\n",
       "      <th></th>\n",
       "    </tr>\n",
       "  </thead>\n",
       "  <tbody>\n",
       "    <tr>\n",
       "      <th>2020-01-01</th>\n",
       "      <td>0.54</td>\n",
       "    </tr>\n",
       "    <tr>\n",
       "      <th>2020-01-11</th>\n",
       "      <td>0.19</td>\n",
       "    </tr>\n",
       "    <tr>\n",
       "      <th>2020-01-21</th>\n",
       "      <td>-0.08</td>\n",
       "    </tr>\n",
       "    <tr>\n",
       "      <th>2020-02-01</th>\n",
       "      <td>-0.05</td>\n",
       "    </tr>\n",
       "    <tr>\n",
       "      <th>2020-02-11</th>\n",
       "      <td>-0.14</td>\n",
       "    </tr>\n",
       "    <tr>\n",
       "      <th>...</th>\n",
       "      <td>...</td>\n",
       "    </tr>\n",
       "    <tr>\n",
       "      <th>2022-09-21</th>\n",
       "      <td>-0.60</td>\n",
       "    </tr>\n",
       "    <tr>\n",
       "      <th>2022-10-01</th>\n",
       "      <td>-0.37</td>\n",
       "    </tr>\n",
       "    <tr>\n",
       "      <th>2022-10-11</th>\n",
       "      <td>-0.94</td>\n",
       "    </tr>\n",
       "    <tr>\n",
       "      <th>2022-10-21</th>\n",
       "      <td>-1.81</td>\n",
       "    </tr>\n",
       "    <tr>\n",
       "      <th>2022-11-01</th>\n",
       "      <td>-0.40</td>\n",
       "    </tr>\n",
       "  </tbody>\n",
       "</table>\n",
       "<p>103 rows × 1 columns</p>\n",
       "</div>"
      ],
      "text/plain": [
       "            smant\n",
       "time             \n",
       "2020-01-01   0.54\n",
       "2020-01-11   0.19\n",
       "2020-01-21  -0.08\n",
       "2020-02-01  -0.05\n",
       "2020-02-11  -0.14\n",
       "...           ...\n",
       "2022-09-21  -0.60\n",
       "2022-10-01  -0.37\n",
       "2022-10-11  -0.94\n",
       "2022-10-21  -1.81\n",
       "2022-11-01  -0.40\n",
       "\n",
       "[103 rows x 1 columns]"
      ]
     },
     "execution_count": 85,
     "metadata": {},
     "output_type": "execute_result"
    }
   ],
   "source": [
    "df_sma"
   ]
  },
  {
   "cell_type": "code",
   "execution_count": 81,
   "metadata": {},
   "outputs": [
    {
     "data": {
      "text/plain": [
       "108"
      ]
     },
     "execution_count": 81,
     "metadata": {},
     "output_type": "execute_result"
    }
   ],
   "source": [
    "len(df_spi.spi.to_numpy().flatten().repeat(3))"
   ]
  },
  {
   "cell_type": "code",
   "execution_count": 53,
   "metadata": {},
   "outputs": [
    {
     "name": "stderr",
     "output_type": "stream",
     "text": [
      "2023-04-05  12:14:21 INFO Initiating processing of ERA5 daily data.\n",
      "2023-04-05  12:14:21 INFO Input precipitation, 456 values: 0.000 0.005 \n",
      "2023-04-05  12:14:21 INFO \n",
      "\n",
      "2023-04-05  12:14:21 DEBUG scaled values: 0.002 0.012\n",
      "2023-04-05  12:14:21 DEBUG alphas: 9.687 17.504 betas: 0.000 0.001\n",
      "2023-04-05  12:14:21 INFO SPI, 456 values: -3.046 2.676\n",
      "2023-04-05  12:14:23 INFO Completed processing of ERA5 soil water data.\n",
      "2023-04-05  12:14:24 INFO Completed processing of ERA5 fAPAR data.\n"
     ]
    }
   ],
   "source": []
  },
  {
   "cell_type": "code",
   "execution_count": 58,
   "metadata": {},
   "outputs": [
    {
     "data": {
      "text/plain": [
       "['input/fpanv\\\\fpanv_m_wld_20120101_20121221_t.nc',\n",
       " 'input/fpanv\\\\fpanv_m_wld_20130101_20131221_t.nc',\n",
       " 'input/fpanv\\\\fpanv_m_wld_20140101_20141221_t.nc',\n",
       " 'input/fpanv\\\\fpanv_m_wld_20150101_20151221_t.nc',\n",
       " 'input/fpanv\\\\fpanv_m_wld_20160101_20161221_t.nc',\n",
       " 'input/fpanv\\\\fpanv_m_wld_20170101_20171221_t.nc',\n",
       " 'input/fpanv\\\\fpanv_m_wld_20180101_20181221_t.nc',\n",
       " 'input/fpanv\\\\fpanv_m_wld_20190101_20191221_t.nc',\n",
       " 'input/fpanv\\\\fpanv_m_wld_20200101_20201221_t.nc',\n",
       " 'input/fpanv\\\\fpanv_m_wld_20210101_20211221_t.nc',\n",
       " 'input/fpanv\\\\fpanv_m_wld_20220101_20221221_t.nc',\n",
       " 'input/fpanv\\\\fpanv_m_wld_20230101_20230311_t.nc']"
      ]
     },
     "execution_count": 58,
     "metadata": {},
     "output_type": "execute_result"
    }
   ],
   "source": [
    "cdi.fpr.filelist"
   ]
  },
  {
   "cell_type": "code",
   "execution_count": 47,
   "metadata": {},
   "outputs": [
    {
     "data": {
      "text/plain": [
       "35"
      ]
     },
     "execution_count": 47,
     "metadata": {},
     "output_type": "execute_result"
    }
   ],
   "source": [
    "len(df_spi)"
   ]
  },
  {
   "cell_type": "code",
   "execution_count": 50,
   "metadata": {},
   "outputs": [
    {
     "data": {
      "text/html": [
       "<div>\n",
       "<style scoped>\n",
       "    .dataframe tbody tr th:only-of-type {\n",
       "        vertical-align: middle;\n",
       "    }\n",
       "\n",
       "    .dataframe tbody tr th {\n",
       "        vertical-align: top;\n",
       "    }\n",
       "\n",
       "    .dataframe thead th {\n",
       "        text-align: right;\n",
       "    }\n",
       "</style>\n",
       "<table border=\"1\" class=\"dataframe\">\n",
       "  <thead>\n",
       "    <tr style=\"text-align: right;\">\n",
       "      <th></th>\n",
       "      <th>fpanv</th>\n",
       "    </tr>\n",
       "    <tr>\n",
       "      <th>time</th>\n",
       "      <th></th>\n",
       "    </tr>\n",
       "  </thead>\n",
       "  <tbody>\n",
       "    <tr>\n",
       "      <th>2020-01-01</th>\n",
       "      <td>NaN</td>\n",
       "    </tr>\n",
       "    <tr>\n",
       "      <th>2020-01-11</th>\n",
       "      <td>NaN</td>\n",
       "    </tr>\n",
       "    <tr>\n",
       "      <th>2020-01-21</th>\n",
       "      <td>-1.371</td>\n",
       "    </tr>\n",
       "    <tr>\n",
       "      <th>2020-02-01</th>\n",
       "      <td>-1.078</td>\n",
       "    </tr>\n",
       "    <tr>\n",
       "      <th>2020-02-11</th>\n",
       "      <td>-0.787</td>\n",
       "    </tr>\n",
       "    <tr>\n",
       "      <th>...</th>\n",
       "      <td>...</td>\n",
       "    </tr>\n",
       "    <tr>\n",
       "      <th>2022-11-11</th>\n",
       "      <td>NaN</td>\n",
       "    </tr>\n",
       "    <tr>\n",
       "      <th>2022-11-21</th>\n",
       "      <td>NaN</td>\n",
       "    </tr>\n",
       "    <tr>\n",
       "      <th>2022-12-01</th>\n",
       "      <td>NaN</td>\n",
       "    </tr>\n",
       "    <tr>\n",
       "      <th>2022-12-11</th>\n",
       "      <td>NaN</td>\n",
       "    </tr>\n",
       "    <tr>\n",
       "      <th>2022-12-21</th>\n",
       "      <td>NaN</td>\n",
       "    </tr>\n",
       "  </tbody>\n",
       "</table>\n",
       "<p>108 rows × 1 columns</p>\n",
       "</div>"
      ],
      "text/plain": [
       "            fpanv\n",
       "time             \n",
       "2020-01-01    NaN\n",
       "2020-01-11    NaN\n",
       "2020-01-21 -1.371\n",
       "2020-02-01 -1.078\n",
       "2020-02-11 -0.787\n",
       "...           ...\n",
       "2022-11-11    NaN\n",
       "2022-11-21    NaN\n",
       "2022-12-01    NaN\n",
       "2022-12-11    NaN\n",
       "2022-12-21    NaN\n",
       "\n",
       "[108 rows x 1 columns]"
      ]
     },
     "execution_count": 50,
     "metadata": {},
     "output_type": "execute_result"
    }
   ],
   "source": [
    "df_fpr"
   ]
  },
  {
   "cell_type": "code",
   "execution_count": 34,
   "metadata": {},
   "outputs": [],
   "source": [
    "idx_np = lambda df: df.to_numpy().flatten()\n",
    "shift_date = lambda arr, n: np.pad(arr[:-n],(n,0),'constant',constant_values=(np.nan,))\n",
    "\n",
    "# use fAPAR times as CDI delivery dates\n",
    "time = df_fpr.index\n",
    "\n",
    "# fapar needs to use previous dekad's values\n",
    "fpr = shift_date(idx_np(df_fpr),1)\n",
    "\n",
    "# sma needs to use dekad -2 values\n",
    "sma = shift_date(idx_np(df_sma),2)\n",
    "\n",
    "# convert spi to dekads\n",
    "spi = idx_np(df_spi.spi).repeat(3)[:-2]\n",
    "\n",
    "# spi needs to be from the previous month\n",
    "spi = shift_date(spi,3)\n",
    "\n",
    "# spi is in months, and others are in dekads, so repeat spi 3 times before combining with others\n",
    "#spi = spi.repeat(3)\n"
   ]
  },
  {
   "cell_type": "code",
   "execution_count": 39,
   "metadata": {},
   "outputs": [
    {
     "ename": "ValueError",
     "evalue": "The truth value of an array with more than one element is ambiguous. Use a.any() or a.all()",
     "output_type": "error",
     "traceback": [
      "\u001b[1;31m---------------------------------------------------------------------------\u001b[0m",
      "\u001b[1;31mValueError\u001b[0m                                Traceback (most recent call last)",
      "Cell \u001b[1;32mIn[39], line 1\u001b[0m\n\u001b[1;32m----> 1\u001b[0m df_spi\u001b[39m.\u001b[39;49minterpolate(time)\n",
      "File \u001b[1;32mc:\\Users\\eejco\\Anaconda3\\envs\\climate_env\\lib\\site-packages\\pandas\\util\\_decorators.py:331\u001b[0m, in \u001b[0;36mdeprecate_nonkeyword_arguments.<locals>.decorate.<locals>.wrapper\u001b[1;34m(*args, **kwargs)\u001b[0m\n\u001b[0;32m    325\u001b[0m \u001b[39mif\u001b[39;00m \u001b[39mlen\u001b[39m(args) \u001b[39m>\u001b[39m num_allow_args:\n\u001b[0;32m    326\u001b[0m     warnings\u001b[39m.\u001b[39mwarn(\n\u001b[0;32m    327\u001b[0m         msg\u001b[39m.\u001b[39mformat(arguments\u001b[39m=\u001b[39m_format_argument_list(allow_args)),\n\u001b[0;32m    328\u001b[0m         \u001b[39mFutureWarning\u001b[39;00m,\n\u001b[0;32m    329\u001b[0m         stacklevel\u001b[39m=\u001b[39mfind_stack_level(),\n\u001b[0;32m    330\u001b[0m     )\n\u001b[1;32m--> 331\u001b[0m \u001b[39mreturn\u001b[39;00m func(\u001b[39m*\u001b[39;49margs, \u001b[39m*\u001b[39;49m\u001b[39m*\u001b[39;49mkwargs)\n",
      "File \u001b[1;32mc:\\Users\\eejco\\Anaconda3\\envs\\climate_env\\lib\\site-packages\\pandas\\core\\frame.py:11855\u001b[0m, in \u001b[0;36mDataFrame.interpolate\u001b[1;34m(self, method, axis, limit, inplace, limit_direction, limit_area, downcast, **kwargs)\u001b[0m\n\u001b[0;32m  11843\u001b[0m \u001b[39m@deprecate_nonkeyword_arguments\u001b[39m(version\u001b[39m=\u001b[39m\u001b[39mNone\u001b[39;00m, allowed_args\u001b[39m=\u001b[39m[\u001b[39m\"\u001b[39m\u001b[39mself\u001b[39m\u001b[39m\"\u001b[39m, \u001b[39m\"\u001b[39m\u001b[39mmethod\u001b[39m\u001b[39m\"\u001b[39m])\n\u001b[0;32m  11844\u001b[0m \u001b[39mdef\u001b[39;00m \u001b[39minterpolate\u001b[39m(\n\u001b[0;32m  11845\u001b[0m     \u001b[39mself\u001b[39m: DataFrame,\n\u001b[1;32m   (...)\u001b[0m\n\u001b[0;32m  11853\u001b[0m     \u001b[39m*\u001b[39m\u001b[39m*\u001b[39mkwargs,\n\u001b[0;32m  11854\u001b[0m ) \u001b[39m-\u001b[39m\u001b[39m>\u001b[39m DataFrame \u001b[39m|\u001b[39m \u001b[39mNone\u001b[39;00m:\n\u001b[1;32m> 11855\u001b[0m     \u001b[39mreturn\u001b[39;00m \u001b[39msuper\u001b[39;49m()\u001b[39m.\u001b[39;49minterpolate(\n\u001b[0;32m  11856\u001b[0m         method,\n\u001b[0;32m  11857\u001b[0m         axis,\n\u001b[0;32m  11858\u001b[0m         limit,\n\u001b[0;32m  11859\u001b[0m         inplace,\n\u001b[0;32m  11860\u001b[0m         limit_direction,\n\u001b[0;32m  11861\u001b[0m         limit_area,\n\u001b[0;32m  11862\u001b[0m         downcast,\n\u001b[0;32m  11863\u001b[0m         \u001b[39m*\u001b[39;49m\u001b[39m*\u001b[39;49mkwargs,\n\u001b[0;32m  11864\u001b[0m     )\n",
      "File \u001b[1;32mc:\\Users\\eejco\\Anaconda3\\envs\\climate_env\\lib\\site-packages\\pandas\\core\\generic.py:7512\u001b[0m, in \u001b[0;36mNDFrame.interpolate\u001b[1;34m(self, method, axis, limit, inplace, limit_direction, limit_area, downcast, **kwargs)\u001b[0m\n\u001b[0;32m   7509\u001b[0m \u001b[39mif\u001b[39;00m obj\u001b[39m.\u001b[39mempty:\n\u001b[0;32m   7510\u001b[0m     \u001b[39mreturn\u001b[39;00m \u001b[39mself\u001b[39m\u001b[39m.\u001b[39mcopy()\n\u001b[1;32m-> 7512\u001b[0m \u001b[39mif\u001b[39;00m method \u001b[39mnot\u001b[39;49;00m \u001b[39min\u001b[39;49;00m fillna_methods:\n\u001b[0;32m   7513\u001b[0m     axis \u001b[39m=\u001b[39m \u001b[39mself\u001b[39m\u001b[39m.\u001b[39m_info_axis_number\n\u001b[0;32m   7515\u001b[0m \u001b[39mif\u001b[39;00m \u001b[39misinstance\u001b[39m(obj\u001b[39m.\u001b[39mindex, MultiIndex) \u001b[39mand\u001b[39;00m method \u001b[39m!=\u001b[39m \u001b[39m\"\u001b[39m\u001b[39mlinear\u001b[39m\u001b[39m\"\u001b[39m:\n",
      "\u001b[1;31mValueError\u001b[0m: The truth value of an array with more than one element is ambiguous. Use a.any() or a.all()"
     ]
    }
   ],
   "source": [
    "df_spi.inerp"
   ]
  },
  {
   "cell_type": "code",
   "execution_count": 38,
   "metadata": {},
   "outputs": [
    {
     "data": {
      "text/html": [
       "<div>\n",
       "<style scoped>\n",
       "    .dataframe tbody tr th:only-of-type {\n",
       "        vertical-align: middle;\n",
       "    }\n",
       "\n",
       "    .dataframe tbody tr th {\n",
       "        vertical-align: top;\n",
       "    }\n",
       "\n",
       "    .dataframe thead th {\n",
       "        text-align: right;\n",
       "    }\n",
       "</style>\n",
       "<table border=\"1\" class=\"dataframe\">\n",
       "  <thead>\n",
       "    <tr style=\"text-align: right;\">\n",
       "      <th></th>\n",
       "      <th>tp</th>\n",
       "      <th>spi</th>\n",
       "    </tr>\n",
       "  </thead>\n",
       "  <tbody>\n",
       "    <tr>\n",
       "      <th>2020-01-01</th>\n",
       "      <td>0.001882</td>\n",
       "      <td>0.928141</td>\n",
       "    </tr>\n",
       "    <tr>\n",
       "      <th>2020-02-01</th>\n",
       "      <td>0.002690</td>\n",
       "      <td>1.106046</td>\n",
       "    </tr>\n",
       "    <tr>\n",
       "      <th>2020-03-01</th>\n",
       "      <td>0.000918</td>\n",
       "      <td>0.265101</td>\n",
       "    </tr>\n",
       "    <tr>\n",
       "      <th>2020-04-01</th>\n",
       "      <td>0.001049</td>\n",
       "      <td>-0.339632</td>\n",
       "    </tr>\n",
       "  </tbody>\n",
       "</table>\n",
       "</div>"
      ],
      "text/plain": [
       "                  tp       spi\n",
       "2020-01-01  0.001882  0.928141\n",
       "2020-02-01  0.002690  1.106046\n",
       "2020-03-01  0.000918  0.265101\n",
       "2020-04-01  0.001049 -0.339632"
      ]
     },
     "execution_count": 38,
     "metadata": {},
     "output_type": "execute_result"
    }
   ],
   "source": [
    "utils.to_dekads(df_spi)"
   ]
  },
  {
   "cell_type": "code",
   "execution_count": 21,
   "metadata": {},
   "outputs": [
    {
     "data": {
      "text/html": [
       "<div>\n",
       "<style scoped>\n",
       "    .dataframe tbody tr th:only-of-type {\n",
       "        vertical-align: middle;\n",
       "    }\n",
       "\n",
       "    .dataframe tbody tr th {\n",
       "        vertical-align: top;\n",
       "    }\n",
       "\n",
       "    .dataframe thead th {\n",
       "        text-align: right;\n",
       "    }\n",
       "</style>\n",
       "<table border=\"1\" class=\"dataframe\">\n",
       "  <thead>\n",
       "    <tr style=\"text-align: right;\">\n",
       "      <th></th>\n",
       "      <th>tp</th>\n",
       "      <th>spi</th>\n",
       "    </tr>\n",
       "    <tr>\n",
       "      <th>time</th>\n",
       "      <th></th>\n",
       "      <th></th>\n",
       "    </tr>\n",
       "  </thead>\n",
       "  <tbody>\n",
       "    <tr>\n",
       "      <th>2020-01-01</th>\n",
       "      <td>0.001882</td>\n",
       "      <td>0.928141</td>\n",
       "    </tr>\n",
       "    <tr>\n",
       "      <th>2020-02-01</th>\n",
       "      <td>0.002690</td>\n",
       "      <td>1.106046</td>\n",
       "    </tr>\n",
       "    <tr>\n",
       "      <th>2020-03-01</th>\n",
       "      <td>0.000918</td>\n",
       "      <td>0.265101</td>\n",
       "    </tr>\n",
       "    <tr>\n",
       "      <th>2020-04-01</th>\n",
       "      <td>0.001049</td>\n",
       "      <td>-0.339632</td>\n",
       "    </tr>\n",
       "  </tbody>\n",
       "</table>\n",
       "</div>"
      ],
      "text/plain": [
       "                  tp       spi\n",
       "time                          \n",
       "2020-01-01  0.001882  0.928141\n",
       "2020-02-01  0.002690  1.106046\n",
       "2020-03-01  0.000918  0.265101\n",
       "2020-04-01  0.001049 -0.339632"
      ]
     },
     "execution_count": 21,
     "metadata": {},
     "output_type": "execute_result"
    }
   ],
   "source": []
  },
  {
   "cell_type": "code",
   "execution_count": 16,
   "metadata": {},
   "outputs": [],
   "source": [
    "arr=np.pad(df.to_numpy().flatten()[:-1],(1,0),'constant',constant_values=(np.nan,))"
   ]
  },
  {
   "cell_type": "code",
   "execution_count": 35,
   "metadata": {},
   "outputs": [
    {
     "data": {
      "text/html": [
       "<div>\n",
       "<style scoped>\n",
       "    .dataframe tbody tr th:only-of-type {\n",
       "        vertical-align: middle;\n",
       "    }\n",
       "\n",
       "    .dataframe tbody tr th {\n",
       "        vertical-align: top;\n",
       "    }\n",
       "\n",
       "    .dataframe thead th {\n",
       "        text-align: right;\n",
       "    }\n",
       "</style>\n",
       "<table border=\"1\" class=\"dataframe\">\n",
       "  <thead>\n",
       "    <tr style=\"text-align: right;\">\n",
       "      <th></th>\n",
       "      <th>sdf</th>\n",
       "    </tr>\n",
       "    <tr>\n",
       "      <th>time</th>\n",
       "      <th></th>\n",
       "    </tr>\n",
       "  </thead>\n",
       "  <tbody>\n",
       "    <tr>\n",
       "      <th>2020-01-01</th>\n",
       "      <td>NaN</td>\n",
       "    </tr>\n",
       "    <tr>\n",
       "      <th>2020-01-11</th>\n",
       "      <td>NaN</td>\n",
       "    </tr>\n",
       "    <tr>\n",
       "      <th>2020-01-21</th>\n",
       "      <td>NaN</td>\n",
       "    </tr>\n",
       "    <tr>\n",
       "      <th>2020-02-01</th>\n",
       "      <td>-1.371</td>\n",
       "    </tr>\n",
       "    <tr>\n",
       "      <th>2020-02-11</th>\n",
       "      <td>-1.078</td>\n",
       "    </tr>\n",
       "    <tr>\n",
       "      <th>2020-02-21</th>\n",
       "      <td>-0.787</td>\n",
       "    </tr>\n",
       "    <tr>\n",
       "      <th>2020-03-01</th>\n",
       "      <td>-1.231</td>\n",
       "    </tr>\n",
       "    <tr>\n",
       "      <th>2020-03-11</th>\n",
       "      <td>-0.999</td>\n",
       "    </tr>\n",
       "    <tr>\n",
       "      <th>2020-03-21</th>\n",
       "      <td>-0.859</td>\n",
       "    </tr>\n",
       "    <tr>\n",
       "      <th>2020-04-01</th>\n",
       "      <td>-0.076</td>\n",
       "    </tr>\n",
       "  </tbody>\n",
       "</table>\n",
       "</div>"
      ],
      "text/plain": [
       "              sdf\n",
       "time             \n",
       "2020-01-01    NaN\n",
       "2020-01-11    NaN\n",
       "2020-01-21    NaN\n",
       "2020-02-01 -1.371\n",
       "2020-02-11 -1.078\n",
       "2020-02-21 -0.787\n",
       "2020-03-01 -1.231\n",
       "2020-03-11 -0.999\n",
       "2020-03-21 -0.859\n",
       "2020-04-01 -0.076"
      ]
     },
     "execution_count": 35,
     "metadata": {},
     "output_type": "execute_result"
    }
   ],
   "source": [
    "pd.DataFrame({'sdf':arr},index=time)"
   ]
  }
 ],
 "metadata": {
  "kernelspec": {
   "display_name": "climate_env",
   "language": "python",
   "name": "python3"
  },
  "language_info": {
   "codemirror_mode": {
    "name": "ipython",
    "version": 3
   },
   "file_extension": ".py",
   "mimetype": "text/x-python",
   "name": "python",
   "nbconvert_exporter": "python",
   "pygments_lexer": "ipython3",
   "version": "3.8.16"
  },
  "orig_nbformat": 4,
  "vscode": {
   "interpreter": {
    "hash": "14944716bd77819cc98e0777f574eeb066b7d8a3e92800e5d93184d7ebe696e1"
   }
  }
 },
 "nbformat": 4,
 "nbformat_minor": 2
}
