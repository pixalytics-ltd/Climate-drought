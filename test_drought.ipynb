{
 "cells": [
  {
   "cell_type": "code",
   "execution_count": 1,
   "id": "e731b688",
   "metadata": {},
   "outputs": [],
   "source": [
    "import os\n",
    "import sys\n",
    "import numpy as np\n",
    "import xarray as xr\n",
    "import matplotlib.pyplot as plt\n",
    "import argparse\n",
    "import geojson\n",
    "\n",
    "# import drought indicies\n",
    "from climate_drought import drought_indices as dri, config\n",
    "\n",
    "INDEX_MAP = {\n",
    "    'SPI_ECMWF': dri.SPI_ECMWF,\n",
    "    'SPI_GDO': dri.SPI_GDO,\n",
    "    'SPI_NCG': dri.SPI_NCG,\n",
    "    'SMA_ECMWF': dri.SMA_ECMWF,\n",
    "    'SMA_GDO': dri.SMA_GDO,\n",
    "    'fAPAR': dri.FPAR_GDO,\n",
    "    'CDI': dri.CDI,\n",
    "    'FEATURE_SAFE': dri.FEATURE_SAFE,\n",
    "    'UTCI': dri.UTCI\n",
    "}\n"
   ]
  },
  {
   "cell_type": "code",
   "execution_count": 2,
   "id": "9f7825a1",
   "metadata": {},
   "outputs": [],
   "source": [
    "class Drought:\n",
    "    def __init__(self,product,latitude,longitude,start_date,end_date):\n",
    "        # Setup paramaters\n",
    "        self.verbose = True\n",
    "\n",
    "        self.indir = '/home/jovyan/climate-input'\n",
    "        self.outdir = '/home/jovyan/climate-output'\n",
    "        self.oformat = 'GeoJSON'\n",
    "        self.product = product\n",
    "        self.start_date = start_date\n",
    "        self.end_date = end_date\n",
    "        \n",
    "        # Convert latitude and longitude strings to lists\n",
    "        self.latitude = [float(item) for item in latitude.replace('[','').replace(']','').split(',')]\n",
    "        self.longitude = [float(item) for item in longitude.replace('[','').replace(']','').split(',')]\n",
    "\n",
    "        # setup config and args\n",
    "        self.cfg = config.Config(self.outdir,self.indir)\n",
    "        self.args = config.AnalysisArgs(latitude,longitude,\n",
    "            start_date,end_date,product=product,oformat=self.oformat)\n"
   ]
  },
  {
   "cell_type": "code",
   "execution_count": 3,
   "id": "2ba6b3df",
   "metadata": {},
   "outputs": [
    {
     "name": "stdout",
     "output_type": "stream",
     "text": [
      "Running UTCI for 52.5 1.25 from 20220101 to 20241231\n"
     ]
    }
   ],
   "source": [
    "product = \"UTCI\"\n",
    "latitude = '52.5' \n",
    "longitude = '1.25'\n",
    "start_date = '20220101'\n",
    "end_date = '20241231'\n",
    "\n",
    "print(\"Running {} for {} {} from {} to {}\".format(product, \n",
    "    latitude, longitude, start_date, end_date))\n",
    " \n",
    "obj = Drought(product,latitude,longitude,start_date,end_date)"
   ]
  },
  {
   "cell_type": "code",
   "execution_count": 4,
   "id": "60d8b016",
   "metadata": {},
   "outputs": [
    {
     "name": "stderr",
     "output_type": "stream",
     "text": [
      "2025-01-13  20:06:49 INFO Downloaded file '/home/jovyan/climate-output/precip_19850101-20241231_52.40-52.60_1.15-1.35_monthly.nc' already exists.\n",
      "2025-01-13  20:06:49 INFO Initiating processing of ERA5 & UTCI monthly data.\n"
     ]
    },
    {
     "name": "stdout",
     "output_type": "stream",
     "text": [
      "Computing UTCI index for 19850101 to 20241231.\n"
     ]
    },
    {
     "name": "stderr",
     "output_type": "stream",
     "text": [
      "2025-01-13  20:06:49 DEBUG Precip xarray:\n",
      "2025-01-13  20:06:49 DEBUG <xarray.Dataset>\n",
      "Dimensions:    (time: 479, latitude: 3, longitude: 3)\n",
      "Coordinates:\n",
      "    number     (time) int64 ...\n",
      "  * time       (time) datetime64[ns] 1985-01-01 1985-02-01 ... 2024-02-01\n",
      "  * latitude   (latitude) float64 52.6 52.5 52.4\n",
      "  * longitude  (longitude) float64 1.15 1.25 1.35\n",
      "    expver     (time) object ...\n",
      "Data variables:\n",
      "    tp         (time, latitude, longitude) float32 ...\n",
      "Attributes:\n",
      "    GRIB_centre:             ecmf\n",
      "    GRIB_centreDescription:  European Centre for Medium-Range Weather Forecasts\n",
      "    GRIB_subCentre:          0\n",
      "    Conventions:             CF-1.7\n",
      "    institution:             European Centre for Medium-Range Weather Forecasts\n",
      "2025-01-13  20:06:49 INFO \n",
      "\n",
      "2025-01-13  20:06:49 DEBUG scaled values: 0.002 0.012\n",
      "2025-01-13  20:06:49 DEBUG alphas: 10.056 15.874 betas: 0.000 0.001\n",
      "2025-01-13  20:06:49 INFO Input precipitation, 479 values: 0.000 0.005 \n",
      "2025-01-13  20:06:49 INFO SPI, 479 values: -3.036 2.607\n",
      "2025-01-13  20:06:49 INFO Initiating download of ERA5 data.\n",
      "2025-01-13  20:06:49 INFO Variables to be downloaded: UTCI.\n",
      "2025-01-13  20:06:49 INFO Downloading UTCI data for 2022-01-01 2024-12-31 for [52.6, 1.15, 52.4, 1.35]\n",
      "2025-01-13 20:06:49,812 INFO [2024-09-28T00:00:00] **Welcome to the New Climate Data Store (CDS)!** This new system is in its early days of full operations and still undergoing enhancements and fine tuning. Some disruptions are to be expected. Your \n",
      "[feedback](https://jira.ecmwf.int/plugins/servlet/desk/portal/1/create/202) is key to improve the user experience on the new CDS for the benefit of everyone. Thank you.\n",
      "2025-01-13  20:06:49 INFO [2024-09-28T00:00:00] **Welcome to the New Climate Data Store (CDS)!** This new system is in its early days of full operations and still undergoing enhancements and fine tuning. Some disruptions are to be expected. Your \n",
      "[feedback](https://jira.ecmwf.int/plugins/servlet/desk/portal/1/create/202) is key to improve the user experience on the new CDS for the benefit of everyone. Thank you.\n",
      "2025-01-13 20:06:49,813 INFO [2024-09-26T00:00:00] Watch our [Forum](https://forum.ecmwf.int/) for Announcements, news and other discussed topics.\n",
      "2025-01-13  20:06:49 INFO [2024-09-26T00:00:00] Watch our [Forum](https://forum.ecmwf.int/) for Announcements, news and other discussed topics.\n",
      "2025-01-13 20:06:49,815 INFO [2024-09-16T00:00:00] Remember that you need to have an ECMWF account to use the new CDS. **Your old CDS credentials will not work in new CDS!**\n",
      "2025-01-13  20:06:49 INFO [2024-09-16T00:00:00] Remember that you need to have an ECMWF account to use the new CDS. **Your old CDS credentials will not work in new CDS!**\n",
      "2025-01-13 20:06:49,816 WARNING [2024-06-16T00:00:00] CDS API syntax is changed and some keys or parameter names may have also changed. To avoid requests failing, please use the \"Show API request code\" tool on the dataset Download Form to check you are using the correct syntax for your API request.\n",
      "2025-01-13  20:06:49 WARNING [2024-06-16T00:00:00] CDS API syntax is changed and some keys or parameter names may have also changed. To avoid requests failing, please use the \"Show API request code\" tool on the dataset Download Form to check you are using the correct syntax for your API request.\n",
      "2025-01-13  20:06:49 INFO Initiating download of ERA5 data.\n",
      "2025-01-13  20:06:49 INFO Variables to be downloaded: 2m_dewpoint_temperature, 2m_temperature, 10m_u_component_of_wind, 10m_v_component_of_wind, mean_surface_downward_long_wave_radiation_flux, mean_surface_downward_short_wave_radiation_flux, mean_surface_net_long_wave_radiation_flux, mean_surface_net_short_wave_radiation_flux.\n",
      "2025-01-13  20:06:49 INFO Downloading hourly ERA data for 2022-01-01 2024-12-31 for [52.6, 1.15, 52.4, 1.35]\n",
      "2025-01-13 20:06:50,003 INFO [2024-09-28T00:00:00] **Welcome to the New Climate Data Store (CDS)!** This new system is in its early days of full operations and still undergoing enhancements and fine tuning. Some disruptions are to be expected. Your \n",
      "[feedback](https://jira.ecmwf.int/plugins/servlet/desk/portal/1/create/202) is key to improve the user experience on the new CDS for the benefit of everyone. Thank you.\n",
      "2025-01-13  20:06:50 INFO [2024-09-28T00:00:00] **Welcome to the New Climate Data Store (CDS)!** This new system is in its early days of full operations and still undergoing enhancements and fine tuning. Some disruptions are to be expected. Your \n",
      "[feedback](https://jira.ecmwf.int/plugins/servlet/desk/portal/1/create/202) is key to improve the user experience on the new CDS for the benefit of everyone. Thank you.\n",
      "2025-01-13 20:06:50,005 INFO [2024-09-26T00:00:00] Watch our [Forum](https://forum.ecmwf.int/) for Announcements, news and other discussed topics.\n",
      "2025-01-13  20:06:50 INFO [2024-09-26T00:00:00] Watch our [Forum](https://forum.ecmwf.int/) for Announcements, news and other discussed topics.\n",
      "2025-01-13 20:06:50,006 INFO [2024-09-16T00:00:00] Remember that you need to have an ECMWF account to use the new CDS. **Your old CDS credentials will not work in new CDS!**\n",
      "2025-01-13  20:06:50 INFO [2024-09-16T00:00:00] Remember that you need to have an ECMWF account to use the new CDS. **Your old CDS credentials will not work in new CDS!**\n",
      "2025-01-13 20:06:50,007 WARNING [2024-06-16T00:00:00] CDS API syntax is changed and some keys or parameter names may have also changed. To avoid requests failing, please use the \"Show API request code\" tool on the dataset Download Form to check you are using the correct syntax for your API request.\n",
      "2025-01-13  20:06:50 WARNING [2024-06-16T00:00:00] CDS API syntax is changed and some keys or parameter names may have also changed. To avoid requests failing, please use the \"Show API request code\" tool on the dataset Download Form to check you are using the correct syntax for your API request.\n"
     ]
    },
    {
     "name": "stdout",
     "output_type": "stream",
     "text": [
      "Requesting: {'variable': ['universal_thermal_climate_index', 'mean_radiant_temperature'], 'version': '1_1', 'product_type': 'consolidated_dataset', 'year': ['2024'], 'month': ['01', '02', '03', '04', '05', '06', '07', '08', '09', '10', '11', '12'], 'day': ['01', '02', '03', '04', '05', '06', '07', '08', '09', '10', '11', '12', '13', '14', '15', '16', '17', '18', '19', '20', '21', '22', '23', '24', '25', '26', '27', '28', '29', '30', '31'], 'area': ['52.6', ' 1.15', ' 52.4', ' 1.35']}\n",
      "Aborting as API request has issues\n",
      "UTCI output file '/home/jovyan/climate-output/utci_20220101-20241231_52.40-52.60_1.15-1.35_daily.nc' could not be located.\n",
      "Requesting: {'product_type': 'reanalysis', 'variable': ['10m_v_component_of_wind', 'mean_surface_downward_long_wave_radiation_flux', '2m_dewpoint_temperature', '2m_temperature', 'mean_surface_downward_short_wave_radiation_flux', 'mean_surface_net_short_wave_radiation_flux', '10m_u_component_of_wind', 'mean_surface_net_long_wave_radiation_flux'], 'year': '2022', 'month': '1', 'day': [1, 2, 3, 4, 5, 6, 7, 8, 9, 10, 11, 12, 13, 14, 15, 16, 17, 18, 19, 20, 21, 22, 23, 24, 25, 26, 27, 28, 29, 30, 31], 'time': ['19:00', '10:00', '08:00', '09:00', '05:00', '22:00', '02:00', '15:00', '11:00', '23:00', '21:00', '16:00', '20:00', '03:00', '00:00', '04:00', '14:00', '17:00', '12:00', '18:00', '01:00', '13:00', '07:00', '06:00'], 'format': 'netcdf', 'area': [52.6, 1.15, 52.4, 1.35]}\n"
     ]
    },
    {
     "name": "stderr",
     "output_type": "stream",
     "text": [
      "2025-01-13 20:06:50,701 INFO [2025-01-09T00:00:00] Please be aware that ERA5 data from 1st January 2025 was degraded and is being corrected. Watch the [Forum announcement](https://forum.ecmwf.int/t/era5-data-from-1st-january-2025-was-degraded-and-is-being-corrected/10689) for updates.\n",
      "2025-01-13  20:06:50 INFO [2025-01-09T00:00:00] Please be aware that ERA5 data from 1st January 2025 was degraded and is being corrected. Watch the [Forum announcement](https://forum.ecmwf.int/t/era5-data-from-1st-january-2025-was-degraded-and-is-being-corrected/10689) for updates.\n",
      "2025-01-13 20:06:50,703 INFO Request ID is f928abfa-65b5-47c5-8de9-e9de725e3b70\n",
      "2025-01-13  20:06:50 INFO Request ID is f928abfa-65b5-47c5-8de9-e9de725e3b70\n",
      "2025-01-13 20:06:50,810 INFO status has been updated to accepted\n",
      "2025-01-13  20:06:50 INFO status has been updated to accepted\n",
      "2025-01-13 20:06:59,236 INFO status has been updated to running\n",
      "2025-01-13  20:06:59 INFO status has been updated to running\n",
      "2025-01-13 20:13:09,800 INFO status has been updated to successful\n",
      "2025-01-13  20:13:09 INFO status has been updated to successful\n"
     ]
    },
    {
     "data": {
      "application/vnd.jupyter.widget-view+json": {
       "model_id": "a33e2031742e41c5af01e60ed1203be2",
       "version_major": 2,
       "version_minor": 0
      },
      "text/plain": [
       "13fc1c58fbd858149719abefaa303645.zip:   0%|          | 0.00/217k [00:00<?, ?B/s]"
      ]
     },
     "metadata": {},
     "output_type": "display_data"
    },
    {
     "name": "stdout",
     "output_type": "stream",
     "text": [
      "Extraction of /home/jovyan/climate-output/multi_20220101-20241231_52.40-52.60_1.15-1.35_hourly and merging 2 .nc files: ['/home/jovyan/climate-output/multi_20220101-20241231_52.40-52.60_1.15-1.35_hourly/data_stream-oper_stepType-avg.nc', '/home/jovyan/climate-output/multi_20220101-20241231_52.40-52.60_1.15-1.35_hourly/data_stream-oper_stepType-instant.nc']\n",
      "Requesting: {'product_type': 'reanalysis', 'variable': ['10m_v_component_of_wind', 'mean_surface_downward_long_wave_radiation_flux', '2m_dewpoint_temperature', '2m_temperature', 'mean_surface_downward_short_wave_radiation_flux', 'mean_surface_net_short_wave_radiation_flux', '10m_u_component_of_wind', 'mean_surface_net_long_wave_radiation_flux'], 'year': '2022', 'month': '2', 'day': [1, 2, 3, 4, 5, 6, 7, 8, 9, 10, 11, 12, 13, 14, 15, 16, 17, 18, 19, 20, 21, 22, 23, 24, 25, 26, 27, 28, 29, 30, 31], 'time': ['19:00', '10:00', '08:00', '09:00', '05:00', '22:00', '02:00', '15:00', '11:00', '23:00', '21:00', '16:00', '20:00', '03:00', '00:00', '04:00', '14:00', '17:00', '12:00', '18:00', '01:00', '13:00', '07:00', '06:00'], 'format': 'netcdf', 'area': [52.6, 1.15, 52.4, 1.35]}\n"
     ]
    },
    {
     "name": "stderr",
     "output_type": "stream",
     "text": [
      "2025-01-13 20:13:10,985 INFO [2025-01-09T00:00:00] Please be aware that ERA5 data from 1st January 2025 was degraded and is being corrected. Watch the [Forum announcement](https://forum.ecmwf.int/t/era5-data-from-1st-january-2025-was-degraded-and-is-being-corrected/10689) for updates.\n",
      "2025-01-13  20:13:10 INFO [2025-01-09T00:00:00] Please be aware that ERA5 data from 1st January 2025 was degraded and is being corrected. Watch the [Forum announcement](https://forum.ecmwf.int/t/era5-data-from-1st-january-2025-was-degraded-and-is-being-corrected/10689) for updates.\n",
      "2025-01-13 20:13:10,986 INFO Request ID is 574b7b99-1438-4724-b2cf-895665ec1142\n",
      "2025-01-13  20:13:10 INFO Request ID is 574b7b99-1438-4724-b2cf-895665ec1142\n",
      "2025-01-13 20:13:11,057 INFO status has been updated to accepted\n",
      "2025-01-13  20:13:11 INFO status has been updated to accepted\n",
      "2025-01-13 20:13:19,482 INFO status has been updated to running\n",
      "2025-01-13  20:13:19 INFO status has been updated to running\n",
      "2025-01-13 20:19:30,098 INFO status has been updated to successful\n",
      "2025-01-13  20:19:30 INFO status has been updated to successful\n"
     ]
    },
    {
     "data": {
      "application/vnd.jupyter.widget-view+json": {
       "model_id": "4e5f657ec6cd48dbb753d2cb2960ca99",
       "version_major": 2,
       "version_minor": 0
      },
      "text/plain": [
       "e30e5633f705659af4d3d03441316a36.zip:   0%|          | 0.00/212k [00:00<?, ?B/s]"
      ]
     },
     "metadata": {},
     "output_type": "display_data"
    },
    {
     "name": "stdout",
     "output_type": "stream",
     "text": [
      "Extraction of /home/jovyan/climate-output/multi_20220101-20241231_52.40-52.60_1.15-1.35_hourly and merging 2 .nc files: ['/home/jovyan/climate-output/multi_20220101-20241231_52.40-52.60_1.15-1.35_hourly/data_stream-oper_stepType-avg.nc', '/home/jovyan/climate-output/multi_20220101-20241231_52.40-52.60_1.15-1.35_hourly/data_stream-oper_stepType-instant.nc']\n",
      "Requesting: {'product_type': 'reanalysis', 'variable': ['10m_v_component_of_wind', 'mean_surface_downward_long_wave_radiation_flux', '2m_dewpoint_temperature', '2m_temperature', 'mean_surface_downward_short_wave_radiation_flux', 'mean_surface_net_short_wave_radiation_flux', '10m_u_component_of_wind', 'mean_surface_net_long_wave_radiation_flux'], 'year': '2022', 'month': '3', 'day': [1, 2, 3, 4, 5, 6, 7, 8, 9, 10, 11, 12, 13, 14, 15, 16, 17, 18, 19, 20, 21, 22, 23, 24, 25, 26, 27, 28, 29, 30, 31], 'time': ['19:00', '10:00', '08:00', '09:00', '05:00', '22:00', '02:00', '15:00', '11:00', '23:00', '21:00', '16:00', '20:00', '03:00', '00:00', '04:00', '14:00', '17:00', '12:00', '18:00', '01:00', '13:00', '07:00', '06:00'], 'format': 'netcdf', 'area': [52.6, 1.15, 52.4, 1.35]}\n"
     ]
    },
    {
     "name": "stderr",
     "output_type": "stream",
     "text": [
      "2025-01-13 20:19:31,151 INFO [2025-01-09T00:00:00] Please be aware that ERA5 data from 1st January 2025 was degraded and is being corrected. Watch the [Forum announcement](https://forum.ecmwf.int/t/era5-data-from-1st-january-2025-was-degraded-and-is-being-corrected/10689) for updates.\n",
      "2025-01-13  20:19:31 INFO [2025-01-09T00:00:00] Please be aware that ERA5 data from 1st January 2025 was degraded and is being corrected. Watch the [Forum announcement](https://forum.ecmwf.int/t/era5-data-from-1st-january-2025-was-degraded-and-is-being-corrected/10689) for updates.\n",
      "2025-01-13 20:19:31,153 INFO Request ID is 24069785-10fd-46f7-865b-1415c7ae64e0\n",
      "2025-01-13  20:19:31 INFO Request ID is 24069785-10fd-46f7-865b-1415c7ae64e0\n",
      "2025-01-13 20:19:31,254 INFO status has been updated to accepted\n",
      "2025-01-13  20:19:31 INFO status has been updated to accepted\n",
      "2025-01-13 20:19:39,645 INFO status has been updated to running\n",
      "2025-01-13  20:19:39 INFO status has been updated to running\n",
      "2025-01-13 20:23:50,057 INFO status has been updated to successful\n",
      "2025-01-13  20:23:50 INFO status has been updated to successful\n"
     ]
    },
    {
     "data": {
      "application/vnd.jupyter.widget-view+json": {
       "model_id": "a2060f4946144346995e1040c1b73b9d",
       "version_major": 2,
       "version_minor": 0
      },
      "text/plain": [
       "24345fd03f7d329a6e4f0a96b5334c4e.zip:   0%|          | 0.00/217k [00:00<?, ?B/s]"
      ]
     },
     "metadata": {},
     "output_type": "display_data"
    },
    {
     "name": "stdout",
     "output_type": "stream",
     "text": [
      "Extraction of /home/jovyan/climate-output/multi_20220101-20241231_52.40-52.60_1.15-1.35_hourly and merging 2 .nc files: ['/home/jovyan/climate-output/multi_20220101-20241231_52.40-52.60_1.15-1.35_hourly/data_stream-oper_stepType-avg.nc', '/home/jovyan/climate-output/multi_20220101-20241231_52.40-52.60_1.15-1.35_hourly/data_stream-oper_stepType-instant.nc']\n"
     ]
    },
    {
     "name": "stderr",
     "output_type": "stream",
     "text": [
      "2025-01-13  20:23:51 INFO C3S data was downloaded to '/home/jovyan/climate-output/multi_20220101-20241231_52.40-52.60_1.15-1.35_hourly.nc'.\n"
     ]
    },
    {
     "name": "stdout",
     "output_type": "stream",
     "text": [
      "Downloaded data was saved to '/home/jovyan/climate-output/multi_20220101-20241231_52.40-52.60_1.15-1.35_hourly.nc'.\n",
      "UTCI input file /home/jovyan/climate-output/multi_20220101-20241231_52.40-52.60_1.15-1.35_hourly.nc exists\n",
      "<xarray.Dataset>\n",
      "Dimensions:    (time: 26304, latitude: 1, longitude: 1)\n",
      "Coordinates:\n",
      "  * time       (time) datetime64[ns] 2024-01-01 ... 2023-12-31T23:00:00\n",
      "  * latitude   (latitude) float64 52.4\n",
      "  * longitude  (longitude) float64 1.15\n",
      "Data variables:\n",
      "    msnswrf    (time, latitude, longitude) float32 ...\n",
      "    msdwswrf   (time, latitude, longitude) float32 ...\n",
      "    msdwlwrf   (time, latitude, longitude) float32 ...\n",
      "    msnlwrf    (time, latitude, longitude) float32 ...\n",
      "    d2m        (time, latitude, longitude) float32 ...\n",
      "    v10        (time, latitude, longitude) float32 ...\n",
      "    u10        (time, latitude, longitude) float32 ...\n",
      "    t2m        (time, latitude, longitude) float32 ...\n",
      "Calculating UTCI using: ['msnswrf', 'msdwswrf', 'msdwlwrf', 'msnlwrf', 'd2m', 'v10', 'u10', 't2m']\n",
      "Humidity: 25.820 99.998 %\n",
      "Wind: 0.021 17.353 m s-1\n",
      "Downwelling Radiance, SW: 0.000 878.933 LW: 200.218 424.852 W m**-2\n",
      "Upwelling Radiance, SW: -0.019 173.244 LW: 286.847 517.613 W m**-2\n",
      "Latitude: 52.400 52.400 degrees_north\n"
     ]
    },
    {
     "name": "stderr",
     "output_type": "stream",
     "text": [
      "/home/jovyan/Climate-drought/climate_env/lib/python3.8/site-packages/xclim/core/cfchecks.py:45: UserWarning: Variable does not have a `standard_name` attribute.\n",
      "  check_valid(vardata, \"standard_name\", data[\"standard_name\"])\n"
     ]
    },
    {
     "name": "stdout",
     "output_type": "stream",
     "text": [
      "MRT: 256.656 441.379 K\n",
      "UTCI: -23.648 37.778 °C\n",
      "UTCI merged:  <xarray.Dataset>\n",
      "Dimensions:    (time: 35, longitude: 479, latitude: 479)\n",
      "Coordinates:\n",
      "  * time       (time) datetime64[ns] 2024-03-01 2024-04-01 ... 2024-02-01\n",
      "  * longitude  (longitude) <U4 '1.25' '1.25' '1.25' ... '1.25' '1.25' '1.25'\n",
      "  * latitude   (latitude) <U4 '52.5' '52.5' '52.5' ... '52.5' '52.5' '52.5'\n",
      "Data variables:\n",
      "    tp         (time) float32 0.001641 0.002709 0.00309 ... 0.0007397 0.002071\n",
      "    spi        (time) float64 -0.6193 0.1909 0.9805 ... -0.7664 -1.326 -0.748\n",
      "    utci       (time) float64 9.333 11.1 20.97 21.71 ... 7.147 3.3 1.032 6.491\n",
      "Health index: -2.000 3.000\n"
     ]
    },
    {
     "name": "stderr",
     "output_type": "stream",
     "text": [
      "2025-01-13  20:24:02 INFO Generating output...\n"
     ]
    },
    {
     "name": "stdout",
     "output_type": "stream",
     "text": [
      "Downloading and processing complete for '/home/jovyan/climate-output/utci_20220101-20241231_52.50_1.25.json' completed with format GeoJSON.\n",
      "UTCI processing complete, generated /home/jovyan/climate-output/utci_20220101-20241231_52.50_1.25.json\n"
     ]
    }
   ],
   "source": [
    "# Run processing\n",
    "def drought_index(obj) -> dri.DroughtIndex:\n",
    "   return INDEX_MAP[obj.product](obj.cfg, obj.args)\n",
    "\n",
    "idx = drought_index(obj)\n",
    "\n",
    "print(\"Computing {} index for {} to {}.\".format(obj.product, \n",
    "    obj.cfg.baseline_start, obj.cfg.baseline_end))\n",
    "\n",
    "if os.path.exists(idx.output_file_path):\n",
    "    print(\"Processed file '{}' already exists.\".format(idx.output_file_path))\n",
    "else:\n",
    "    idx.download()\n",
    "    idx.process()\n",
    "    print(\"Downloading and processing complete for '{}' completed with format {}.\".format(idx.output_file_path, obj.oformat))\n",
    "\n",
    "if os.path.exists(idx.output_file_path):\n",
    "    exit_code = 1\n",
    "    print(\"{} processing complete, generated {}\".format(product, idx.output_file_path))\n",
    "\n",
    "else:\n",
    "    print(\"Processing failed, {} does not exist\".format(idx.output_file_path))\n"
   ]
  },
  {
   "cell_type": "code",
   "execution_count": 5,
   "id": "93ea3806",
   "metadata": {},
   "outputs": [
    {
     "name": "stdout",
     "output_type": "stream",
     "text": [
      "         _date        tp       spi       utci  hindex  \\\n",
      "0   2022-01-01  0.000822 -1.028419   5.175754    -1.0   \n",
      "1   2022-02-01  0.002270  0.058928   1.958764    -2.0   \n",
      "2   2022-03-01  0.001555 -0.520272  11.282239     0.0   \n",
      "3   2022-04-01  0.000920 -0.191420  13.031589     0.0   \n",
      "4   2022-05-01  0.002657  0.020361  20.214244     0.0   \n",
      "5   2022-06-01  0.002354  0.226004  22.569489     0.0   \n",
      "6   2022-07-01  0.000651 -0.316514  26.594804     2.0   \n",
      "7   2022-08-01  0.002398 -0.710603  27.531813     2.0   \n",
      "8   2022-09-01  0.001198 -1.508189  20.205021     2.0   \n",
      "9   2022-10-01  0.000909 -1.133661  17.456207     1.0   \n",
      "10  2022-11-01  0.002387 -1.129934   9.662833     1.0   \n",
      "11  2022-12-01  0.000817 -1.481011   3.638815    -1.0   \n",
      "12  2023-01-01  0.000808 -1.137705   3.505965    -1.0   \n",
      "13  2023-02-01  0.000181 -2.934126   7.993990     1.0   \n",
      "14  2023-03-01  0.001653 -2.468714   6.233603     1.0   \n",
      "15  2023-04-01  0.001200 -1.691317  11.985778     2.0   \n",
      "16  2023-05-01  0.000824 -0.984710  18.112095     0.0   \n",
      "17  2023-06-01  0.000449 -2.217303  23.746564     3.0   \n",
      "18  2023-07-01  0.001669 -2.105923  21.910568     3.0   \n",
      "19  2023-08-01  0.001489 -1.928854  23.770938     2.0   \n",
      "20  2023-09-01  0.000789 -1.750901  24.671234     2.0   \n",
      "21  2023-10-01  0.001997 -1.301707  17.055662     1.0   \n",
      "22  2023-11-01  0.001580 -1.230422   7.146920    -1.0   \n",
      "23  2023-12-01  0.001443 -0.766448   3.300382    -2.0   \n",
      "24  2024-01-01  0.000740 -1.325815   1.031733    -1.0   \n",
      "25  2024-02-01  0.002071 -0.748002   6.490924    -2.0   \n",
      "26  2024-03-01  0.001641 -0.619327   9.333290     0.0   \n",
      "27  2024-04-01  0.002709  0.190912  11.095687     0.0   \n",
      "28  2024-05-01  0.003090  0.980530  20.972591     0.0   \n",
      "29  2024-06-01  0.001703  0.575503  21.712269     0.0   \n",
      "30  2024-07-01  0.003340  0.693832  23.786571     0.0   \n",
      "31  2024-08-01  0.001043 -0.234337  24.646706     0.0   \n",
      "32  2024-09-01  0.003088  0.639216  19.623860     0.0   \n",
      "33  2024-10-01  0.001284 -0.458472  16.021243     0.0   \n",
      "34  2024-11-01  0.001719 -0.027507   8.792822    -2.0   \n",
      "\n",
      "                    geometry  \n",
      "0   POINT (1.25000 52.50000)  \n",
      "1   POINT (1.25000 52.50000)  \n",
      "2   POINT (1.25000 52.50000)  \n",
      "3   POINT (1.25000 52.50000)  \n",
      "4   POINT (1.25000 52.50000)  \n",
      "5   POINT (1.25000 52.50000)  \n",
      "6   POINT (1.25000 52.50000)  \n",
      "7   POINT (1.25000 52.50000)  \n",
      "8   POINT (1.25000 52.50000)  \n",
      "9   POINT (1.25000 52.50000)  \n",
      "10  POINT (1.25000 52.50000)  \n",
      "11  POINT (1.25000 52.50000)  \n",
      "12  POINT (1.25000 52.50000)  \n",
      "13  POINT (1.25000 52.50000)  \n",
      "14  POINT (1.25000 52.50000)  \n",
      "15  POINT (1.25000 52.50000)  \n",
      "16  POINT (1.25000 52.50000)  \n",
      "17  POINT (1.25000 52.50000)  \n",
      "18  POINT (1.25000 52.50000)  \n",
      "19  POINT (1.25000 52.50000)  \n",
      "20  POINT (1.25000 52.50000)  \n",
      "21  POINT (1.25000 52.50000)  \n",
      "22  POINT (1.25000 52.50000)  \n",
      "23  POINT (1.25000 52.50000)  \n",
      "24  POINT (1.25000 52.50000)  \n",
      "25  POINT (1.25000 52.50000)  \n",
      "26  POINT (1.25000 52.50000)  \n",
      "27  POINT (1.25000 52.50000)  \n",
      "28  POINT (1.25000 52.50000)  \n",
      "29  POINT (1.25000 52.50000)  \n",
      "30  POINT (1.25000 52.50000)  \n",
      "31  POINT (1.25000 52.50000)  \n",
      "32  POINT (1.25000 52.50000)  \n",
      "33  POINT (1.25000 52.50000)  \n",
      "34  POINT (1.25000 52.50000)  \n"
     ]
    }
   ],
   "source": [
    "import geopandas as gpd\n",
    "\n",
    "# Load in data and display then plot\n",
    "df = gpd.read_file(idx.output_file_path)\n",
    "print(df)\n"
   ]
  },
  {
   "cell_type": "code",
   "execution_count": 8,
   "id": "b88c38f0",
   "metadata": {},
   "outputs": [
    {
     "data": {
      "image/png": "[encoded data removed]",
      "text/plain": [
       "<Figure size 640x480 with 2 Axes>"
      ]
     },
     "metadata": {},
     "output_type": "display_data"
    }
   ],
   "source": [
    "# plotting\n",
    "\n",
    "fig, ax1 = plt.subplots()\n",
    "ax1.plot(df._date,df.spi,color='b',label='spi')\n",
    "ax1.set_ylabel('SPI [blue]')\n",
    "tick_list = df._date.values[::3]\n",
    "plt.xticks(rotation=45, ticks=tick_list)\n",
    "minv = np.nanmin([np.nanmin(df.hindex),np.nanmin(df.spi)])\n",
    "maxv = np.nanmax([np.nanmax(df.hindex),np.nanmax(df.spi)])\n",
    "if product == 'UTCI':\n",
    "    ax1.plot(df._date,df.hindex,color='g',label='utci')\n",
    "    ax1.set_ylabel('SPI [blue], Health index [green]')\n",
    "    ax2 = ax1.twinx()\n",
    "    ax2.plot(df._date, df.utci, color = 'r', label = 'utci')\n",
    "    ax2.set_ylabel('UTCI [degC, red]')\n",
    "    ax1.fill_between(df._date,1.5,maxv, \n",
    "                     color = 'C1', alpha=0.3, interpolate = True)\n",
    "    ax1.fill_between(df._date,-1.5,minv, \n",
    "                     color = 'C0', alpha=0.3, interpolate = True)\n",
    "plt.tight_layout()\n",
    "plt.show()      "
   ]
  },
  {
   "cell_type": "code",
   "execution_count": null,
   "id": "7af96635-223f-41a9-92df-33662371b473",
   "metadata": {},
   "outputs": [],
   "source": []
  }
 ],
 "metadata": {
  "jupytext": {
   "formats": "ipynb,md"
  },
  "kernelspec": {
   "display_name": "Python (climate_env)",
   "language": "python",
   "name": "climate_env"
  },
  "language_info": {
   "codemirror_mode": {
    "name": "ipython",
    "version": 3
   },
   "file_extension": ".py",
   "mimetype": "text/x-python",
   "name": "python",
   "nbconvert_exporter": "python",
   "pygments_lexer": "ipython3",
   "version": "3.8.16"
  }
 },
 "nbformat": 4,
 "nbformat_minor": 5
}
