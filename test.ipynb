{
 "cells": [
  {
   "cell_type": "code",
   "execution_count": 1,
   "metadata": {},
   "outputs": [],
   "source": [
    "# ensure classes imported from .py files are dynamically updated\n",
    "%load_ext autoreload\n",
    "%autoreload 2\n",
    "\n",
    "# plot matplots nicely\n",
    "%matplotlib inline  "
   ]
  },
  {
   "cell_type": "code",
   "execution_count": 37,
   "metadata": {},
   "outputs": [],
   "source": [
    "import numpy as np\n",
    "import pandas as pd\n",
    "import os\n",
    "from climate_drought import config, drought_indices as dri, utils"
   ]
  },
  {
   "cell_type": "code",
   "execution_count": 24,
   "metadata": {},
   "outputs": [],
   "source": [
    "# configure inputs\n",
    "aa = config.AnalysisArgs(\n",
    "    latitude=52.5,\n",
    "    longitude=1.25,\n",
    "    start_date='20200101',\n",
    "    end_date='20221231',\n",
    "    product='SMA'\n",
    ")\n",
    "cf = config.Config(outdir= 'output',indir='input',verbose=False)\n",
    "cdi = dri.CDI(cf,aa)"
   ]
  },
  {
   "cell_type": "code",
   "execution_count": 41,
   "metadata": {},
   "outputs": [
    {
     "name": "stderr",
     "output_type": "stream",
     "text": [
      "2023-04-05  11:56:18 INFO Initiating processing of ERA5 daily data.\n",
      "2023-04-05  11:56:19 INFO Input precipitation, 456 values: 0.000 0.005 \n",
      "2023-04-05  11:56:19 INFO \n",
      "\n",
      "2023-04-05  11:56:19 DEBUG scaled values: 0.002 0.012\n",
      "2023-04-05  11:56:19 DEBUG alphas: 9.687 17.504 betas: 0.000 0.001\n",
      "2023-04-05  11:56:19 INFO SPI, 456 values: -3.046 2.676\n",
      "2023-04-05  11:56:21 INFO Completed processing of ERA5 soil water data.\n",
      "2023-04-05  11:56:24 INFO Completed processing of ERA5 fAPAR data.\n",
      "2023-04-05  11:56:24 INFO Computing Combined Drought Indicator...\n",
      "2023-04-05  11:56:24 INFO Completed processing of ERA5 CDI data.\n"
     ]
    },
    {
     "name": "stdout",
     "output_type": "stream",
     "text": [
      "[0, 0, 0, 0, 0, 0, 0, 0, 0, 0]\n",
      "[       nan        nan        nan 0.9281408  0.9281408  0.9281408\n",
      " 1.10604626 1.10604626 1.10604626 0.26510123]\n",
      "[  nan   nan  0.54  0.19 -0.08 -0.05 -0.14 -0.05  0.15  0.  ]\n",
      "[   nan    nan    nan -1.371 -1.078 -0.787 -1.231 -0.999 -0.859 -0.076]\n",
      "DatetimeIndex(['2020-01-01', '2020-01-11', '2020-01-21', '2020-02-01',\n",
      "               '2020-02-11', '2020-02-21', '2020-03-01', '2020-03-11',\n",
      "               '2020-03-21', '2020-04-01'],\n",
      "              dtype='datetime64[ns]', name='time', freq=None)\n",
      "Sam:  {'SPI': None, 'SMA': None, 'fAPAR': None, 'CDI': 0.0}\n",
      "Sam:  {'SPI': None, 'SMA': None, 'fAPAR': None, 'CDI': 0.0}\n",
      "Sam:  {'SPI': None, 'SMA': 0.5400000215, 'fAPAR': None, 'CDI': 0.0}\n",
      "Sam:  {'SPI': 0.9281408024, 'SMA': 0.1899999976, 'fAPAR': -1.3710000515, 'CDI': 0.0}\n",
      "Sam:  {'SPI': 0.9281408024, 'SMA': -0.0799999982, 'fAPAR': -1.0779999495, 'CDI': 0.0}\n",
      "Sam:  {'SPI': 0.9281408024, 'SMA': -0.0500000007, 'fAPAR': -0.7870000005, 'CDI': 0.0}\n",
      "Sam:  {'SPI': 1.1060462582, 'SMA': -0.1400000006, 'fAPAR': -1.2309999466, 'CDI': 0.0}\n",
      "Sam:  {'SPI': 1.1060462582, 'SMA': -0.0500000007, 'fAPAR': -0.9990000129, 'CDI': 0.0}\n",
      "Sam:  {'SPI': 1.1060462582, 'SMA': 0.150000006, 'fAPAR': -0.8590000272, 'CDI': 0.0}\n",
      "Sam:  {'SPI': 0.2651012298, 'SMA': 0.0, 'fAPAR': -0.0759999976, 'CDI': 0.0}\n"
     ]
    },
    {
     "data": {
      "text/html": [
       "<div>\n",
       "<style scoped>\n",
       "    .dataframe tbody tr th:only-of-type {\n",
       "        vertical-align: middle;\n",
       "    }\n",
       "\n",
       "    .dataframe tbody tr th {\n",
       "        vertical-align: top;\n",
       "    }\n",
       "\n",
       "    .dataframe thead th {\n",
       "        text-align: right;\n",
       "    }\n",
       "</style>\n",
       "<table border=\"1\" class=\"dataframe\">\n",
       "  <thead>\n",
       "    <tr style=\"text-align: right;\">\n",
       "      <th></th>\n",
       "      <th>SPI</th>\n",
       "      <th>SMA</th>\n",
       "      <th>fAPAR</th>\n",
       "      <th>CDI</th>\n",
       "    </tr>\n",
       "    <tr>\n",
       "      <th>time</th>\n",
       "      <th></th>\n",
       "      <th></th>\n",
       "      <th></th>\n",
       "      <th></th>\n",
       "    </tr>\n",
       "  </thead>\n",
       "  <tbody>\n",
       "    <tr>\n",
       "      <th>2020-01-01</th>\n",
       "      <td>NaN</td>\n",
       "      <td>NaN</td>\n",
       "      <td>NaN</td>\n",
       "      <td>0</td>\n",
       "    </tr>\n",
       "    <tr>\n",
       "      <th>2020-01-11</th>\n",
       "      <td>NaN</td>\n",
       "      <td>NaN</td>\n",
       "      <td>NaN</td>\n",
       "      <td>0</td>\n",
       "    </tr>\n",
       "    <tr>\n",
       "      <th>2020-01-21</th>\n",
       "      <td>NaN</td>\n",
       "      <td>0.54</td>\n",
       "      <td>NaN</td>\n",
       "      <td>0</td>\n",
       "    </tr>\n",
       "    <tr>\n",
       "      <th>2020-02-01</th>\n",
       "      <td>0.928141</td>\n",
       "      <td>0.19</td>\n",
       "      <td>-1.371</td>\n",
       "      <td>0</td>\n",
       "    </tr>\n",
       "    <tr>\n",
       "      <th>2020-02-11</th>\n",
       "      <td>0.928141</td>\n",
       "      <td>-0.08</td>\n",
       "      <td>-1.078</td>\n",
       "      <td>0</td>\n",
       "    </tr>\n",
       "    <tr>\n",
       "      <th>2020-02-21</th>\n",
       "      <td>0.928141</td>\n",
       "      <td>-0.05</td>\n",
       "      <td>-0.787</td>\n",
       "      <td>0</td>\n",
       "    </tr>\n",
       "    <tr>\n",
       "      <th>2020-03-01</th>\n",
       "      <td>1.106046</td>\n",
       "      <td>-0.14</td>\n",
       "      <td>-1.231</td>\n",
       "      <td>0</td>\n",
       "    </tr>\n",
       "    <tr>\n",
       "      <th>2020-03-11</th>\n",
       "      <td>1.106046</td>\n",
       "      <td>-0.05</td>\n",
       "      <td>-0.999</td>\n",
       "      <td>0</td>\n",
       "    </tr>\n",
       "    <tr>\n",
       "      <th>2020-03-21</th>\n",
       "      <td>1.106046</td>\n",
       "      <td>0.15</td>\n",
       "      <td>-0.859</td>\n",
       "      <td>0</td>\n",
       "    </tr>\n",
       "    <tr>\n",
       "      <th>2020-04-01</th>\n",
       "      <td>0.265101</td>\n",
       "      <td>0.00</td>\n",
       "      <td>-0.076</td>\n",
       "      <td>0</td>\n",
       "    </tr>\n",
       "  </tbody>\n",
       "</table>\n",
       "</div>"
      ],
      "text/plain": [
       "                 SPI   SMA  fAPAR  CDI\n",
       "time                                  \n",
       "2020-01-01       NaN   NaN    NaN    0\n",
       "2020-01-11       NaN   NaN    NaN    0\n",
       "2020-01-21       NaN  0.54    NaN    0\n",
       "2020-02-01  0.928141  0.19 -1.371    0\n",
       "2020-02-11  0.928141 -0.08 -1.078    0\n",
       "2020-02-21  0.928141 -0.05 -0.787    0\n",
       "2020-03-01  1.106046 -0.14 -1.231    0\n",
       "2020-03-11  1.106046 -0.05 -0.999    0\n",
       "2020-03-21  1.106046  0.15 -0.859    0\n",
       "2020-04-01  0.265101  0.00 -0.076    0"
      ]
     },
     "execution_count": 41,
     "metadata": {},
     "output_type": "execute_result"
    }
   ],
   "source": [
    "cdi.process()"
   ]
  },
  {
   "cell_type": "code",
   "execution_count": 34,
   "metadata": {},
   "outputs": [],
   "source": [
    "idx_np = lambda df: df.to_numpy().flatten()\n",
    "shift_date = lambda arr, n: np.pad(arr[:-n],(n,0),'constant',constant_values=(np.nan,))\n",
    "\n",
    "# use fAPAR times as CDI delivery dates\n",
    "time = df_fpr.index\n",
    "\n",
    "# fapar needs to use previous dekad's values\n",
    "fpr = shift_date(idx_np(df_fpr),1)\n",
    "\n",
    "# sma needs to use dekad -2 values\n",
    "sma = shift_date(idx_np(df_sma),2)\n",
    "\n",
    "# convert spi to dekads\n",
    "spi = idx_np(df_spi.spi).repeat(3)[:-2]\n",
    "\n",
    "# spi needs to be from the previous month\n",
    "spi = shift_date(spi,3)\n",
    "\n",
    "# spi is in months, and others are in dekads, so repeat spi 3 times before combining with others\n",
    "#spi = spi.repeat(3)\n"
   ]
  },
  {
   "cell_type": "code",
   "execution_count": 40,
   "metadata": {},
   "outputs": [
    {
     "data": {
      "text/plain": [
       "DatetimeIndex(['2020-01-01', '2020-01-11', '2020-01-21', '2020-02-01',\n",
       "               '2020-02-11', '2020-02-21', '2020-03-01', '2020-03-11',\n",
       "               '2020-03-21', '2020-04-01'],\n",
       "              dtype='datetime64[ns]', name='time', freq=None)"
      ]
     },
     "execution_count": 40,
     "metadata": {},
     "output_type": "execute_result"
    }
   ],
   "source": [
    "time"
   ]
  },
  {
   "cell_type": "code",
   "execution_count": 39,
   "metadata": {},
   "outputs": [
    {
     "ename": "ValueError",
     "evalue": "The truth value of an array with more than one element is ambiguous. Use a.any() or a.all()",
     "output_type": "error",
     "traceback": [
      "\u001b[1;31m---------------------------------------------------------------------------\u001b[0m",
      "\u001b[1;31mValueError\u001b[0m                                Traceback (most recent call last)",
      "Cell \u001b[1;32mIn[39], line 1\u001b[0m\n\u001b[1;32m----> 1\u001b[0m df_spi\u001b[39m.\u001b[39;49minterpolate(time)\n",
      "File \u001b[1;32mc:\\Users\\eejco\\Anaconda3\\envs\\climate_env\\lib\\site-packages\\pandas\\util\\_decorators.py:331\u001b[0m, in \u001b[0;36mdeprecate_nonkeyword_arguments.<locals>.decorate.<locals>.wrapper\u001b[1;34m(*args, **kwargs)\u001b[0m\n\u001b[0;32m    325\u001b[0m \u001b[39mif\u001b[39;00m \u001b[39mlen\u001b[39m(args) \u001b[39m>\u001b[39m num_allow_args:\n\u001b[0;32m    326\u001b[0m     warnings\u001b[39m.\u001b[39mwarn(\n\u001b[0;32m    327\u001b[0m         msg\u001b[39m.\u001b[39mformat(arguments\u001b[39m=\u001b[39m_format_argument_list(allow_args)),\n\u001b[0;32m    328\u001b[0m         \u001b[39mFutureWarning\u001b[39;00m,\n\u001b[0;32m    329\u001b[0m         stacklevel\u001b[39m=\u001b[39mfind_stack_level(),\n\u001b[0;32m    330\u001b[0m     )\n\u001b[1;32m--> 331\u001b[0m \u001b[39mreturn\u001b[39;00m func(\u001b[39m*\u001b[39;49margs, \u001b[39m*\u001b[39;49m\u001b[39m*\u001b[39;49mkwargs)\n",
      "File \u001b[1;32mc:\\Users\\eejco\\Anaconda3\\envs\\climate_env\\lib\\site-packages\\pandas\\core\\frame.py:11855\u001b[0m, in \u001b[0;36mDataFrame.interpolate\u001b[1;34m(self, method, axis, limit, inplace, limit_direction, limit_area, downcast, **kwargs)\u001b[0m\n\u001b[0;32m  11843\u001b[0m \u001b[39m@deprecate_nonkeyword_arguments\u001b[39m(version\u001b[39m=\u001b[39m\u001b[39mNone\u001b[39;00m, allowed_args\u001b[39m=\u001b[39m[\u001b[39m\"\u001b[39m\u001b[39mself\u001b[39m\u001b[39m\"\u001b[39m, \u001b[39m\"\u001b[39m\u001b[39mmethod\u001b[39m\u001b[39m\"\u001b[39m])\n\u001b[0;32m  11844\u001b[0m \u001b[39mdef\u001b[39;00m \u001b[39minterpolate\u001b[39m(\n\u001b[0;32m  11845\u001b[0m     \u001b[39mself\u001b[39m: DataFrame,\n\u001b[1;32m   (...)\u001b[0m\n\u001b[0;32m  11853\u001b[0m     \u001b[39m*\u001b[39m\u001b[39m*\u001b[39mkwargs,\n\u001b[0;32m  11854\u001b[0m ) \u001b[39m-\u001b[39m\u001b[39m>\u001b[39m DataFrame \u001b[39m|\u001b[39m \u001b[39mNone\u001b[39;00m:\n\u001b[1;32m> 11855\u001b[0m     \u001b[39mreturn\u001b[39;00m \u001b[39msuper\u001b[39;49m()\u001b[39m.\u001b[39;49minterpolate(\n\u001b[0;32m  11856\u001b[0m         method,\n\u001b[0;32m  11857\u001b[0m         axis,\n\u001b[0;32m  11858\u001b[0m         limit,\n\u001b[0;32m  11859\u001b[0m         inplace,\n\u001b[0;32m  11860\u001b[0m         limit_direction,\n\u001b[0;32m  11861\u001b[0m         limit_area,\n\u001b[0;32m  11862\u001b[0m         downcast,\n\u001b[0;32m  11863\u001b[0m         \u001b[39m*\u001b[39;49m\u001b[39m*\u001b[39;49mkwargs,\n\u001b[0;32m  11864\u001b[0m     )\n",
      "File \u001b[1;32mc:\\Users\\eejco\\Anaconda3\\envs\\climate_env\\lib\\site-packages\\pandas\\core\\generic.py:7512\u001b[0m, in \u001b[0;36mNDFrame.interpolate\u001b[1;34m(self, method, axis, limit, inplace, limit_direction, limit_area, downcast, **kwargs)\u001b[0m\n\u001b[0;32m   7509\u001b[0m \u001b[39mif\u001b[39;00m obj\u001b[39m.\u001b[39mempty:\n\u001b[0;32m   7510\u001b[0m     \u001b[39mreturn\u001b[39;00m \u001b[39mself\u001b[39m\u001b[39m.\u001b[39mcopy()\n\u001b[1;32m-> 7512\u001b[0m \u001b[39mif\u001b[39;00m method \u001b[39mnot\u001b[39;49;00m \u001b[39min\u001b[39;49;00m fillna_methods:\n\u001b[0;32m   7513\u001b[0m     axis \u001b[39m=\u001b[39m \u001b[39mself\u001b[39m\u001b[39m.\u001b[39m_info_axis_number\n\u001b[0;32m   7515\u001b[0m \u001b[39mif\u001b[39;00m \u001b[39misinstance\u001b[39m(obj\u001b[39m.\u001b[39mindex, MultiIndex) \u001b[39mand\u001b[39;00m method \u001b[39m!=\u001b[39m \u001b[39m\"\u001b[39m\u001b[39mlinear\u001b[39m\u001b[39m\"\u001b[39m:\n",
      "\u001b[1;31mValueError\u001b[0m: The truth value of an array with more than one element is ambiguous. Use a.any() or a.all()"
     ]
    }
   ],
   "source": [
    "df_spi.inerp"
   ]
  },
  {
   "cell_type": "code",
   "execution_count": 38,
   "metadata": {},
   "outputs": [
    {
     "data": {
      "text/html": [
       "<div>\n",
       "<style scoped>\n",
       "    .dataframe tbody tr th:only-of-type {\n",
       "        vertical-align: middle;\n",
       "    }\n",
       "\n",
       "    .dataframe tbody tr th {\n",
       "        vertical-align: top;\n",
       "    }\n",
       "\n",
       "    .dataframe thead th {\n",
       "        text-align: right;\n",
       "    }\n",
       "</style>\n",
       "<table border=\"1\" class=\"dataframe\">\n",
       "  <thead>\n",
       "    <tr style=\"text-align: right;\">\n",
       "      <th></th>\n",
       "      <th>tp</th>\n",
       "      <th>spi</th>\n",
       "    </tr>\n",
       "  </thead>\n",
       "  <tbody>\n",
       "    <tr>\n",
       "      <th>2020-01-01</th>\n",
       "      <td>0.001882</td>\n",
       "      <td>0.928141</td>\n",
       "    </tr>\n",
       "    <tr>\n",
       "      <th>2020-02-01</th>\n",
       "      <td>0.002690</td>\n",
       "      <td>1.106046</td>\n",
       "    </tr>\n",
       "    <tr>\n",
       "      <th>2020-03-01</th>\n",
       "      <td>0.000918</td>\n",
       "      <td>0.265101</td>\n",
       "    </tr>\n",
       "    <tr>\n",
       "      <th>2020-04-01</th>\n",
       "      <td>0.001049</td>\n",
       "      <td>-0.339632</td>\n",
       "    </tr>\n",
       "  </tbody>\n",
       "</table>\n",
       "</div>"
      ],
      "text/plain": [
       "                  tp       spi\n",
       "2020-01-01  0.001882  0.928141\n",
       "2020-02-01  0.002690  1.106046\n",
       "2020-03-01  0.000918  0.265101\n",
       "2020-04-01  0.001049 -0.339632"
      ]
     },
     "execution_count": 38,
     "metadata": {},
     "output_type": "execute_result"
    }
   ],
   "source": [
    "utils.to_dekads(df_spi)"
   ]
  },
  {
   "cell_type": "code",
   "execution_count": 21,
   "metadata": {},
   "outputs": [
    {
     "data": {
      "text/html": [
       "<div>\n",
       "<style scoped>\n",
       "    .dataframe tbody tr th:only-of-type {\n",
       "        vertical-align: middle;\n",
       "    }\n",
       "\n",
       "    .dataframe tbody tr th {\n",
       "        vertical-align: top;\n",
       "    }\n",
       "\n",
       "    .dataframe thead th {\n",
       "        text-align: right;\n",
       "    }\n",
       "</style>\n",
       "<table border=\"1\" class=\"dataframe\">\n",
       "  <thead>\n",
       "    <tr style=\"text-align: right;\">\n",
       "      <th></th>\n",
       "      <th>tp</th>\n",
       "      <th>spi</th>\n",
       "    </tr>\n",
       "    <tr>\n",
       "      <th>time</th>\n",
       "      <th></th>\n",
       "      <th></th>\n",
       "    </tr>\n",
       "  </thead>\n",
       "  <tbody>\n",
       "    <tr>\n",
       "      <th>2020-01-01</th>\n",
       "      <td>0.001882</td>\n",
       "      <td>0.928141</td>\n",
       "    </tr>\n",
       "    <tr>\n",
       "      <th>2020-02-01</th>\n",
       "      <td>0.002690</td>\n",
       "      <td>1.106046</td>\n",
       "    </tr>\n",
       "    <tr>\n",
       "      <th>2020-03-01</th>\n",
       "      <td>0.000918</td>\n",
       "      <td>0.265101</td>\n",
       "    </tr>\n",
       "    <tr>\n",
       "      <th>2020-04-01</th>\n",
       "      <td>0.001049</td>\n",
       "      <td>-0.339632</td>\n",
       "    </tr>\n",
       "  </tbody>\n",
       "</table>\n",
       "</div>"
      ],
      "text/plain": [
       "                  tp       spi\n",
       "time                          \n",
       "2020-01-01  0.001882  0.928141\n",
       "2020-02-01  0.002690  1.106046\n",
       "2020-03-01  0.000918  0.265101\n",
       "2020-04-01  0.001049 -0.339632"
      ]
     },
     "execution_count": 21,
     "metadata": {},
     "output_type": "execute_result"
    }
   ],
   "source": []
  },
  {
   "cell_type": "code",
   "execution_count": 16,
   "metadata": {},
   "outputs": [],
   "source": [
    "arr=np.pad(df.to_numpy().flatten()[:-1],(1,0),'constant',constant_values=(np.nan,))"
   ]
  },
  {
   "cell_type": "code",
   "execution_count": 22,
   "metadata": {},
   "outputs": [],
   "source": [
    "time=df.index"
   ]
  },
  {
   "cell_type": "code",
   "execution_count": 35,
   "metadata": {},
   "outputs": [
    {
     "data": {
      "text/html": [
       "<div>\n",
       "<style scoped>\n",
       "    .dataframe tbody tr th:only-of-type {\n",
       "        vertical-align: middle;\n",
       "    }\n",
       "\n",
       "    .dataframe tbody tr th {\n",
       "        vertical-align: top;\n",
       "    }\n",
       "\n",
       "    .dataframe thead th {\n",
       "        text-align: right;\n",
       "    }\n",
       "</style>\n",
       "<table border=\"1\" class=\"dataframe\">\n",
       "  <thead>\n",
       "    <tr style=\"text-align: right;\">\n",
       "      <th></th>\n",
       "      <th>sdf</th>\n",
       "    </tr>\n",
       "    <tr>\n",
       "      <th>time</th>\n",
       "      <th></th>\n",
       "    </tr>\n",
       "  </thead>\n",
       "  <tbody>\n",
       "    <tr>\n",
       "      <th>2020-01-01</th>\n",
       "      <td>NaN</td>\n",
       "    </tr>\n",
       "    <tr>\n",
       "      <th>2020-01-11</th>\n",
       "      <td>NaN</td>\n",
       "    </tr>\n",
       "    <tr>\n",
       "      <th>2020-01-21</th>\n",
       "      <td>NaN</td>\n",
       "    </tr>\n",
       "    <tr>\n",
       "      <th>2020-02-01</th>\n",
       "      <td>-1.371</td>\n",
       "    </tr>\n",
       "    <tr>\n",
       "      <th>2020-02-11</th>\n",
       "      <td>-1.078</td>\n",
       "    </tr>\n",
       "    <tr>\n",
       "      <th>2020-02-21</th>\n",
       "      <td>-0.787</td>\n",
       "    </tr>\n",
       "    <tr>\n",
       "      <th>2020-03-01</th>\n",
       "      <td>-1.231</td>\n",
       "    </tr>\n",
       "    <tr>\n",
       "      <th>2020-03-11</th>\n",
       "      <td>-0.999</td>\n",
       "    </tr>\n",
       "    <tr>\n",
       "      <th>2020-03-21</th>\n",
       "      <td>-0.859</td>\n",
       "    </tr>\n",
       "    <tr>\n",
       "      <th>2020-04-01</th>\n",
       "      <td>-0.076</td>\n",
       "    </tr>\n",
       "  </tbody>\n",
       "</table>\n",
       "</div>"
      ],
      "text/plain": [
       "              sdf\n",
       "time             \n",
       "2020-01-01    NaN\n",
       "2020-01-11    NaN\n",
       "2020-01-21    NaN\n",
       "2020-02-01 -1.371\n",
       "2020-02-11 -1.078\n",
       "2020-02-21 -0.787\n",
       "2020-03-01 -1.231\n",
       "2020-03-11 -0.999\n",
       "2020-03-21 -0.859\n",
       "2020-04-01 -0.076"
      ]
     },
     "execution_count": 35,
     "metadata": {},
     "output_type": "execute_result"
    }
   ],
   "source": [
    "pd.DataFrame({'sdf':arr},index=time)"
   ]
  }
 ],
 "metadata": {
  "kernelspec": {
   "display_name": "climate_env",
   "language": "python",
   "name": "python3"
  },
  "language_info": {
   "codemirror_mode": {
    "name": "ipython",
    "version": 3
   },
   "file_extension": ".py",
   "mimetype": "text/x-python",
   "name": "python",
   "nbconvert_exporter": "python",
   "pygments_lexer": "ipython3",
   "version": "3.8.16"
  },
  "orig_nbformat": 4,
  "vscode": {
   "interpreter": {
    "hash": "14944716bd77819cc98e0777f574eeb066b7d8a3e92800e5d93184d7ebe696e1"
   }
  }
 },
 "nbformat": 4,
 "nbformat_minor": 2
}
