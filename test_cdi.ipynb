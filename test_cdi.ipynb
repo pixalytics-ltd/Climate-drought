{
 "cells": [
  {
   "cell_type": "code",
   "execution_count": 1,
   "metadata": {},
   "outputs": [],
   "source": [
    "# ensure classes imported from .py files are dynamically updated\n",
    "%load_ext autoreload\n",
    "%autoreload 2\n",
    "\n",
    "# plot matplots nicely\n",
    "%matplotlib inline  "
   ]
  },
  {
   "cell_type": "code",
   "execution_count": 2,
   "metadata": {},
   "outputs": [],
   "source": [
    "import numpy as np\n",
    "import pandas as pd\n",
    "import datetime\n",
    "import xarray as xr\n",
    "from dateutil.relativedelta import relativedelta\n",
    "from climate_drought import config, drought_indices as dri, utils"
   ]
  },
  {
   "cell_type": "code",
   "execution_count": 24,
   "metadata": {},
   "outputs": [],
   "source": [
    "# configure inputs\n",
    "#aa = config.AnalysisArgs(latitude=36,longitude=-120,start_date='20200116',end_date='20200410')\n",
    "aa = config.AnalysisArgs(latitude=52.5,longitude=1.25,start_date='20200216',end_date='20221231')\n",
    "cf = config.Config(outdir= 'output',indir='input',verbose=False)"
   ]
  },
  {
   "cell_type": "code",
   "execution_count": 34,
   "metadata": {},
   "outputs": [
    {
     "name": "stderr",
     "output_type": "stream",
     "text": [
      "2023-04-17  12:57:59 INFO Downloaded file 'output\\precip_19850101-20221231_monthly_52.5_1.25.nc' already exists.\n",
      "2023-04-17  12:57:59 INFO Downloaded files available.\n",
      "2023-04-17  12:57:59 INFO Downloaded files available.\n",
      "2023-04-17  12:57:59 INFO Computing Combined Drought Indicator...\n",
      "2023-04-17  12:57:59 INFO Initiating processing of ERA5 daily data.\n",
      "2023-04-17  12:57:59 INFO Input precipitation, 456 values: 0.000 0.005 \n",
      "2023-04-17  12:57:59 INFO \n",
      "\n",
      "2023-04-17  12:57:59 DEBUG scaled values: 0.002 0.012\n",
      "2023-04-17  12:57:59 DEBUG alphas: 9.687 17.504 betas: 0.000 0.001\n",
      "2023-04-17  12:57:59 INFO SPI, 456 values: -3.046 2.676\n",
      "2023-04-17  12:58:01 INFO Completed processing of ERA5 soil water data.\n",
      "2023-04-17  12:58:02 INFO Completed processing of ERA5 fAPAR data.\n",
      "2023-04-17  12:58:02 INFO Completed processing of ERA5 CDI data.\n"
     ]
    },
    {
     "data": {
      "text/html": [
       "<div>\n",
       "<style scoped>\n",
       "    .dataframe tbody tr th:only-of-type {\n",
       "        vertical-align: middle;\n",
       "    }\n",
       "\n",
       "    .dataframe tbody tr th {\n",
       "        vertical-align: top;\n",
       "    }\n",
       "\n",
       "    .dataframe thead th {\n",
       "        text-align: right;\n",
       "    }\n",
       "</style>\n",
       "<table border=\"1\" class=\"dataframe\">\n",
       "  <thead>\n",
       "    <tr style=\"text-align: right;\">\n",
       "      <th></th>\n",
       "      <th>tp</th>\n",
       "      <th>spi</th>\n",
       "      <th>smant</th>\n",
       "      <th>fpanv</th>\n",
       "      <th>CDI</th>\n",
       "    </tr>\n",
       "  </thead>\n",
       "  <tbody>\n",
       "    <tr>\n",
       "      <th>2020-01-01</th>\n",
       "      <td>NaN</td>\n",
       "      <td>NaN</td>\n",
       "      <td>NaN</td>\n",
       "      <td>NaN</td>\n",
       "      <td>NaN</td>\n",
       "    </tr>\n",
       "    <tr>\n",
       "      <th>2020-01-11</th>\n",
       "      <td>NaN</td>\n",
       "      <td>NaN</td>\n",
       "      <td>NaN</td>\n",
       "      <td>NaN</td>\n",
       "      <td>NaN</td>\n",
       "    </tr>\n",
       "    <tr>\n",
       "      <th>2020-01-21</th>\n",
       "      <td>NaN</td>\n",
       "      <td>NaN</td>\n",
       "      <td>NaN</td>\n",
       "      <td>NaN</td>\n",
       "      <td>NaN</td>\n",
       "    </tr>\n",
       "    <tr>\n",
       "      <th>2020-02-01</th>\n",
       "      <td>0.001882</td>\n",
       "      <td>0.928141</td>\n",
       "      <td>NaN</td>\n",
       "      <td>NaN</td>\n",
       "      <td>NaN</td>\n",
       "    </tr>\n",
       "    <tr>\n",
       "      <th>2020-02-11</th>\n",
       "      <td>0.001882</td>\n",
       "      <td>0.928141</td>\n",
       "      <td>-0.08</td>\n",
       "      <td>-1.078</td>\n",
       "      <td>0.0</td>\n",
       "    </tr>\n",
       "    <tr>\n",
       "      <th>...</th>\n",
       "      <td>...</td>\n",
       "      <td>...</td>\n",
       "      <td>...</td>\n",
       "      <td>...</td>\n",
       "      <td>...</td>\n",
       "    </tr>\n",
       "    <tr>\n",
       "      <th>2022-11-11</th>\n",
       "      <td>0.000909</td>\n",
       "      <td>-1.089360</td>\n",
       "      <td>-1.81</td>\n",
       "      <td>1.780</td>\n",
       "      <td>0.0</td>\n",
       "    </tr>\n",
       "    <tr>\n",
       "      <th>2022-11-21</th>\n",
       "      <td>0.000909</td>\n",
       "      <td>-1.089360</td>\n",
       "      <td>-0.40</td>\n",
       "      <td>NaN</td>\n",
       "      <td>NaN</td>\n",
       "    </tr>\n",
       "    <tr>\n",
       "      <th>2022-12-01</th>\n",
       "      <td>0.002387</td>\n",
       "      <td>-0.953641</td>\n",
       "      <td>NaN</td>\n",
       "      <td>NaN</td>\n",
       "      <td>NaN</td>\n",
       "    </tr>\n",
       "    <tr>\n",
       "      <th>2022-12-11</th>\n",
       "      <td>0.002387</td>\n",
       "      <td>-0.953641</td>\n",
       "      <td>NaN</td>\n",
       "      <td>NaN</td>\n",
       "      <td>NaN</td>\n",
       "    </tr>\n",
       "    <tr>\n",
       "      <th>2022-12-21</th>\n",
       "      <td>0.002387</td>\n",
       "      <td>-0.953641</td>\n",
       "      <td>NaN</td>\n",
       "      <td>NaN</td>\n",
       "      <td>NaN</td>\n",
       "    </tr>\n",
       "  </tbody>\n",
       "</table>\n",
       "<p>108 rows × 5 columns</p>\n",
       "</div>"
      ],
      "text/plain": [
       "                  tp       spi  smant  fpanv  CDI\n",
       "2020-01-01       NaN       NaN    NaN    NaN  NaN\n",
       "2020-01-11       NaN       NaN    NaN    NaN  NaN\n",
       "2020-01-21       NaN       NaN    NaN    NaN  NaN\n",
       "2020-02-01  0.001882  0.928141    NaN    NaN  NaN\n",
       "2020-02-11  0.001882  0.928141  -0.08 -1.078  0.0\n",
       "...              ...       ...    ...    ...  ...\n",
       "2022-11-11  0.000909 -1.089360  -1.81  1.780  0.0\n",
       "2022-11-21  0.000909 -1.089360  -0.40    NaN  NaN\n",
       "2022-12-01  0.002387 -0.953641    NaN    NaN  NaN\n",
       "2022-12-11  0.002387 -0.953641    NaN    NaN  NaN\n",
       "2022-12-21  0.002387 -0.953641    NaN    NaN  NaN\n",
       "\n",
       "[108 rows x 5 columns]"
      ]
     },
     "execution_count": 34,
     "metadata": {},
     "output_type": "execute_result"
    }
   ],
   "source": [
    "cdi = dri.CDI(cf,aa)\n",
    "cdi.download()\n",
    "cdi.process()"
   ]
  },
  {
   "cell_type": "code",
   "execution_count": 35,
   "metadata": {},
   "outputs": [],
   "source": [
    "warns = []\n",
    "for i,r in cdi.df_shifted.iterrows():\n",
    "    spi_warn = r['spi'] < -1\n",
    "    warns.append(r['spi'] < -1)"
   ]
  },
  {
   "cell_type": "code",
   "execution_count": 48,
   "metadata": {},
   "outputs": [
    {
     "data": {
      "text/plain": [
       "2020-01-01     True\n",
       "2020-01-11     True\n",
       "2020-01-21     True\n",
       "2020-02-01     True\n",
       "2020-02-11    False\n",
       "              ...  \n",
       "2022-11-11    False\n",
       "2022-11-21     True\n",
       "2022-12-01     True\n",
       "2022-12-11     True\n",
       "2022-12-21     True\n",
       "Length: 108, dtype: bool"
      ]
     },
     "execution_count": 48,
     "metadata": {},
     "output_type": "execute_result"
    }
   ],
   "source": [
    "cdi.df_shifted.isna().any(axis=1)"
   ]
  },
  {
   "cell_type": "code",
   "execution_count": 52,
   "metadata": {},
   "outputs": [
    {
     "ename": "NameError",
     "evalue": "name 'spi' is not defined",
     "output_type": "error",
     "traceback": [
      "\u001b[1;31m---------------------------------------------------------------------------\u001b[0m",
      "\u001b[1;31mNameError\u001b[0m                                 Traceback (most recent call last)",
      "Cell \u001b[1;32mIn[52], line 18\u001b[0m\n\u001b[0;32m     15\u001b[0m     \u001b[39melse\u001b[39;00m:\n\u001b[0;32m     16\u001b[0m         \u001b[39mreturn\u001b[39;00m \u001b[39m0\u001b[39m\n\u001b[1;32m---> 18\u001b[0m cdi\u001b[39m.\u001b[39;49mdf_shifted\u001b[39m.\u001b[39;49mapply(calc_cdi,axis\u001b[39m=\u001b[39;49m\u001b[39m1\u001b[39;49m)\n",
      "File \u001b[1;32mc:\\Users\\eejco\\Anaconda3\\envs\\climate_env\\lib\\site-packages\\pandas\\core\\frame.py:9568\u001b[0m, in \u001b[0;36mDataFrame.apply\u001b[1;34m(self, func, axis, raw, result_type, args, **kwargs)\u001b[0m\n\u001b[0;32m   9557\u001b[0m \u001b[39mfrom\u001b[39;00m \u001b[39mpandas\u001b[39;00m\u001b[39m.\u001b[39;00m\u001b[39mcore\u001b[39;00m\u001b[39m.\u001b[39;00m\u001b[39mapply\u001b[39;00m \u001b[39mimport\u001b[39;00m frame_apply\n\u001b[0;32m   9559\u001b[0m op \u001b[39m=\u001b[39m frame_apply(\n\u001b[0;32m   9560\u001b[0m     \u001b[39mself\u001b[39m,\n\u001b[0;32m   9561\u001b[0m     func\u001b[39m=\u001b[39mfunc,\n\u001b[1;32m   (...)\u001b[0m\n\u001b[0;32m   9566\u001b[0m     kwargs\u001b[39m=\u001b[39mkwargs,\n\u001b[0;32m   9567\u001b[0m )\n\u001b[1;32m-> 9568\u001b[0m \u001b[39mreturn\u001b[39;00m op\u001b[39m.\u001b[39;49mapply()\u001b[39m.\u001b[39m__finalize__(\u001b[39mself\u001b[39m, method\u001b[39m=\u001b[39m\u001b[39m\"\u001b[39m\u001b[39mapply\u001b[39m\u001b[39m\"\u001b[39m)\n",
      "File \u001b[1;32mc:\\Users\\eejco\\Anaconda3\\envs\\climate_env\\lib\\site-packages\\pandas\\core\\apply.py:764\u001b[0m, in \u001b[0;36mFrameApply.apply\u001b[1;34m(self)\u001b[0m\n\u001b[0;32m    761\u001b[0m \u001b[39melif\u001b[39;00m \u001b[39mself\u001b[39m\u001b[39m.\u001b[39mraw:\n\u001b[0;32m    762\u001b[0m     \u001b[39mreturn\u001b[39;00m \u001b[39mself\u001b[39m\u001b[39m.\u001b[39mapply_raw()\n\u001b[1;32m--> 764\u001b[0m \u001b[39mreturn\u001b[39;00m \u001b[39mself\u001b[39;49m\u001b[39m.\u001b[39;49mapply_standard()\n",
      "File \u001b[1;32mc:\\Users\\eejco\\Anaconda3\\envs\\climate_env\\lib\\site-packages\\pandas\\core\\apply.py:891\u001b[0m, in \u001b[0;36mFrameApply.apply_standard\u001b[1;34m(self)\u001b[0m\n\u001b[0;32m    890\u001b[0m \u001b[39mdef\u001b[39;00m \u001b[39mapply_standard\u001b[39m(\u001b[39mself\u001b[39m):\n\u001b[1;32m--> 891\u001b[0m     results, res_index \u001b[39m=\u001b[39m \u001b[39mself\u001b[39;49m\u001b[39m.\u001b[39;49mapply_series_generator()\n\u001b[0;32m    893\u001b[0m     \u001b[39m# wrap results\u001b[39;00m\n\u001b[0;32m    894\u001b[0m     \u001b[39mreturn\u001b[39;00m \u001b[39mself\u001b[39m\u001b[39m.\u001b[39mwrap_results(results, res_index)\n",
      "File \u001b[1;32mc:\\Users\\eejco\\Anaconda3\\envs\\climate_env\\lib\\site-packages\\pandas\\core\\apply.py:907\u001b[0m, in \u001b[0;36mFrameApply.apply_series_generator\u001b[1;34m(self)\u001b[0m\n\u001b[0;32m    904\u001b[0m \u001b[39mwith\u001b[39;00m option_context(\u001b[39m\"\u001b[39m\u001b[39mmode.chained_assignment\u001b[39m\u001b[39m\"\u001b[39m, \u001b[39mNone\u001b[39;00m):\n\u001b[0;32m    905\u001b[0m     \u001b[39mfor\u001b[39;00m i, v \u001b[39min\u001b[39;00m \u001b[39menumerate\u001b[39m(series_gen):\n\u001b[0;32m    906\u001b[0m         \u001b[39m# ignore SettingWithCopy here in case the user mutates\u001b[39;00m\n\u001b[1;32m--> 907\u001b[0m         results[i] \u001b[39m=\u001b[39m \u001b[39mself\u001b[39;49m\u001b[39m.\u001b[39;49mf(v)\n\u001b[0;32m    908\u001b[0m         \u001b[39mif\u001b[39;00m \u001b[39misinstance\u001b[39m(results[i], ABCSeries):\n\u001b[0;32m    909\u001b[0m             \u001b[39m# If we have a view on v, we need to make a copy because\u001b[39;00m\n\u001b[0;32m    910\u001b[0m             \u001b[39m#  series_generator will swap out the underlying data\u001b[39;00m\n\u001b[0;32m    911\u001b[0m             results[i] \u001b[39m=\u001b[39m results[i]\u001b[39m.\u001b[39mcopy(deep\u001b[39m=\u001b[39m\u001b[39mFalse\u001b[39;00m)\n",
      "Cell \u001b[1;32mIn[52], line 13\u001b[0m, in \u001b[0;36mcalc_cdi\u001b[1;34m(r)\u001b[0m\n\u001b[0;32m     11\u001b[0m \u001b[39melif\u001b[39;00m spi_ \u001b[39mand\u001b[39;00m sma_:\n\u001b[0;32m     12\u001b[0m     \u001b[39mreturn\u001b[39;00m \u001b[39m2\u001b[39m\n\u001b[1;32m---> 13\u001b[0m \u001b[39melif\u001b[39;00m spi:\n\u001b[0;32m     14\u001b[0m     \u001b[39mreturn\u001b[39;00m \u001b[39m1\u001b[39m\n\u001b[0;32m     15\u001b[0m \u001b[39melse\u001b[39;00m:\n",
      "\u001b[1;31mNameError\u001b[0m: name 'spi' is not defined"
     ]
    }
   ],
   "source": [
    "\n",
    "def calc_cdi(r):\n",
    "    spi_ = r['spi'] < -1\n",
    "    sma_ = r['smant'] < -1\n",
    "    fpr_ = r['fpanv'] < -1\n",
    "    if r.isna().any():\n",
    "        return np.nan\n",
    "    elif spi_ and sma_ and fpr_:\n",
    "        return 4\n",
    "    elif spi_ and fpr_:\n",
    "        return 3\n",
    "    elif spi_ and sma_:\n",
    "        return 2\n",
    "    elif spi_:\n",
    "        return 1\n",
    "    else:\n",
    "        return 0\n",
    "    \n",
    "cdi.df_shifted.apply(calc_cdi,axis=1)"
   ]
  },
  {
   "cell_type": "code",
   "execution_count": 14,
   "metadata": {},
   "outputs": [
    {
     "data": {
      "text/plain": [
       "array([False, False, False, False, False, False, False,  True,  True,\n",
       "        True, False, False,  True,  True,  True, False, False, False,\n",
       "       False, False,  True, False, False, False, False, False, False,\n",
       "       False, False, False, False, False, False, False, False, False,\n",
       "       False, False, False, False, False, False, False, False, False,\n",
       "       False, False, False, False, False, False, False, False, False,\n",
       "       False, False, False, False, False, False, False, False, False,\n",
       "       False, False, False, False, False, False, False, False, False,\n",
       "       False, False, False, False, False, False, False, False, False,\n",
       "       False, False, False, False, False, False,  True,  True,  True,\n",
       "        True,  True,  True,  True,  True,  True, False, False, False,\n",
       "        True, False, False, False, False])"
      ]
     },
     "execution_count": 14,
     "metadata": {},
     "output_type": "execute_result"
    }
   ],
   "source": [
    "(cdi.sma_shifted < -1).to_numpy().flatten()"
   ]
  }
 ],
 "metadata": {
  "kernelspec": {
   "display_name": "climate_env",
   "language": "python",
   "name": "python3"
  },
  "language_info": {
   "codemirror_mode": {
    "name": "ipython",
    "version": 3
   },
   "file_extension": ".py",
   "mimetype": "text/x-python",
   "name": "python",
   "nbconvert_exporter": "python",
   "pygments_lexer": "ipython3",
   "version": "3.8.16"
  },
  "orig_nbformat": 4,
  "vscode": {
   "interpreter": {
    "hash": "14944716bd77819cc98e0777f574eeb066b7d8a3e92800e5d93184d7ebe696e1"
   }
  }
 },
 "nbformat": 4,
 "nbformat_minor": 2
}
