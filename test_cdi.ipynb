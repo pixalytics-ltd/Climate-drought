{
 "cells": [
  {
   "cell_type": "code",
   "execution_count": 3,
   "metadata": {},
   "outputs": [
    {
     "name": "stdout",
     "output_type": "stream",
     "text": [
      "The autoreload extension is already loaded. To reload it, use:\n",
      "  %reload_ext autoreload\n"
     ]
    }
   ],
   "source": [
    "# ensure classes imported from .py files are dynamically updated\n",
    "%load_ext autoreload\n",
    "%autoreload 2\n",
    "\n",
    "# plot matplots nicely\n",
    "%matplotlib inline  "
   ]
  },
  {
   "cell_type": "code",
   "execution_count": 4,
   "metadata": {},
   "outputs": [],
   "source": [
    "import numpy as np\n",
    "import pandas as pd\n",
    "import datetime\n",
    "import xarray as xr\n",
    "from dateutil.relativedelta import relativedelta\n",
    "from climate_drought import config, drought_indices as dri, utils\n",
    "import matplotlib.pyplot as plt\n",
    "from shapely import Polygon\n",
    "import glob\n",
    "#pd.set_option('display.max_rows', 500)\n"
   ]
  },
  {
   "cell_type": "code",
   "execution_count": 10,
   "metadata": {},
   "outputs": [],
   "source": [
    "cf = config.Config(outdir= 'output',indir='input',verbose=False)\n",
    "aa_pt = config.AnalysisArgs(latitude=38.5,longitude=-119.5,start_date='20210121',end_date='20230531',oformat='cov')\n",
    "aa_bb = config.AnalysisArgs(latitude=[38.5,40.5],longitude=[-119.5,-117.5],start_date='20210121',end_date='20230531')\n",
    "aa_pn = config.AnalysisArgs(latitude=[38.5,40.5,38,38.5,38.5],longitude=[-119.5,-117.5,-118,-117.5,-116.5],start_date='20210121',end_date='20230531',oformat='cov')"
   ]
  },
  {
   "cell_type": "code",
   "execution_count": 16,
   "metadata": {},
   "outputs": [
    {
     "name": "stderr",
     "output_type": "stream",
     "text": [
      "2023-06-15  14:22:26 INFO Successfully retrieved URL for GDO file with year: 2021, prod_code smant\n",
      "2023-06-15  14:22:26 INFO Successfully retrieved URL for GDO file with year: 2022, prod_code smant\n",
      "2023-06-15  14:22:31 INFO Couldn't retrieve URL for GDO file with year: 2023, prod_code smant\n",
      "2023-06-15  14:22:36 INFO Successfully retrieved URL for GDO file with year: 2021, prod_code smant\n",
      "2023-06-15  14:22:37 INFO Successfully retrieved URL for GDO file with year: 2022, prod_code smant\n",
      "2023-06-15  14:22:37 INFO Couldn't retrieve URL for GDO file with year: 2023, prod_code smant\n",
      "2023-06-15  14:22:42 INFO Successfully retrieved URL for GDO file with year: 2021, prod_code smant\n",
      "2023-06-15  14:22:42 INFO Successfully retrieved URL for GDO file with year: 2022, prod_code smant\n",
      "2023-06-15  14:22:42 INFO Couldn't retrieve URL for GDO file with year: 2023, prod_code smant\n",
      "2023-06-15  14:22:43 INFO Successfully retrieved URL for GDO file with year: 2021, prod_code spg03\n",
      "2023-06-15  14:22:43 INFO Successfully retrieved URL for GDO file with year: 2022, prod_code spg03\n",
      "2023-06-15  14:22:43 INFO Successfully retrieved URL for GDO file with year: 2023, prod_code spg03\n",
      "2023-06-15  14:22:43 INFO Successfully retrieved URL for GDO file with year: 2021, prod_code spg03\n",
      "2023-06-15  14:22:43 INFO Successfully retrieved URL for GDO file with year: 2022, prod_code spg03\n",
      "2023-06-15  14:22:44 INFO Successfully retrieved URL for GDO file with year: 2023, prod_code spg03\n",
      "2023-06-15  14:22:44 INFO Successfully retrieved URL for GDO file with year: 2021, prod_code spg03\n",
      "2023-06-15  14:22:44 INFO Successfully retrieved URL for GDO file with year: 2022, prod_code spg03\n",
      "2023-06-15  14:22:44 INFO Successfully retrieved URL for GDO file with year: 2023, prod_code spg03\n",
      "2023-06-15  14:22:44 INFO Successfully retrieved URL for GDO file with year: 2021, prod_code fpanv\n",
      "2023-06-15  14:22:45 INFO Successfully retrieved URL for GDO file with year: 2022, prod_code fpanv\n",
      "2023-06-15  14:22:45 INFO Successfully retrieved URL for GDO file with year: 2023, prod_code fpanv\n",
      "2023-06-15  14:22:45 INFO Successfully retrieved URL for GDO file with year: 2021, prod_code fpanv\n",
      "2023-06-15  14:22:45 INFO Successfully retrieved URL for GDO file with year: 2022, prod_code fpanv\n",
      "2023-06-15  14:22:45 INFO Successfully retrieved URL for GDO file with year: 2023, prod_code fpanv\n",
      "2023-06-15  14:22:46 INFO Successfully retrieved URL for GDO file with year: 2021, prod_code fpanv\n",
      "2023-06-15  14:22:46 INFO Successfully retrieved URL for GDO file with year: 2022, prod_code fpanv\n",
      "2023-06-15  14:22:46 INFO Successfully retrieved URL for GDO file with year: 2023, prod_code fpanv\n"
     ]
    }
   ],
   "source": [
    "sma_pt = dri.SMA_GDO(cf,aa_pt)\n",
    "sma_bb = dri.SMA_GDO(cf,aa_bb)\n",
    "sma_pn = dri.SMA_GDO(cf,aa_pn)\n",
    "spi_pt = dri.SPI_GDO(cf,aa_pt)\n",
    "spi_bb = dri.SPI_GDO(cf,aa_bb)\n",
    "spi_pn = dri.SPI_GDO(cf,aa_pn)\n",
    "fpr_pt = dri.FPAR_GDO(cf,aa_pt)\n",
    "fpr_bb = dri.FPAR_GDO(cf,aa_bb)\n",
    "fpr_pn = dri.FPAR_GDO(cf,aa_pn)"
   ]
  },
  {
   "cell_type": "code",
   "execution_count": 12,
   "metadata": {},
   "outputs": [
    {
     "name": "stderr",
     "output_type": "stream",
     "text": [
      "2023-06-15  14:13:02 INFO File already exists at: input/smant/smant_m_wld_20210101_20211221_t.nc\n",
      "2023-06-15  14:13:02 INFO File already exists at: input/smant/smant_m_wld_20220101_20221101_t.nc\n",
      "2023-06-15  14:13:02 INFO Could not download file: input/smant/smant_m_wld_20220101_20220921_t.nc\n",
      "2023-06-15  14:13:02 INFO Error: HTTP Error 404: Not Found\n",
      "2023-06-15  14:13:02 INFO File already exists at: input/smant/smant_m_wld_20210101_20211221_t.nc\n",
      "2023-06-15  14:13:02 INFO File already exists at: input/smant/smant_m_wld_20220101_20221101_t.nc\n",
      "2023-06-15  14:13:03 INFO Could not download file: input/smant/smant_m_wld_20220101_20220921_t.nc\n",
      "2023-06-15  14:13:03 INFO Error: HTTP Error 404: Not Found\n",
      "2023-06-15  14:13:03 INFO File already exists at: input/smant/smant_m_wld_20210101_20211221_t.nc\n",
      "2023-06-15  14:13:03 INFO File already exists at: input/smant/smant_m_wld_20220101_20221101_t.nc\n",
      "2023-06-15  14:13:03 INFO Could not download file: input/smant/smant_m_wld_20220101_20220921_t.nc\n",
      "2023-06-15  14:13:03 INFO Error: HTTP Error 404: Not Found\n"
     ]
    },
    {
     "data": {
      "text/plain": [
       "['input/smant/smant_m_wld_20210101_20211221_t.nc',\n",
       " 'input/smant/smant_m_wld_20220101_20221101_t.nc']"
      ]
     },
     "execution_count": 12,
     "metadata": {},
     "output_type": "execute_result"
    }
   ],
   "source": [
    "sma_pt.download()\n",
    "sma_bb.download()\n",
    "sma_pn.download()"
   ]
  },
  {
   "cell_type": "code",
   "execution_count": 17,
   "metadata": {},
   "outputs": [
    {
     "name": "stderr",
     "output_type": "stream",
     "text": [
      "2023-06-15  14:23:33 INFO File already exists at: input/spg03/spg03_m_wld_20210101_20211201_m.nc\n",
      "2023-06-15  14:23:33 INFO File already exists at: input/spg03/spg03_m_wld_20220101_20221201_m.nc\n",
      "2023-06-15  14:23:33 INFO File already exists at: input/spg03/spg03_m_wld_20220101_20221101_m.nc\n",
      "2023-06-15  14:23:34 INFO Could not download file: input/spg03/spg03_m_wld_20220101_20220801_m.nc\n",
      "2023-06-15  14:23:34 INFO Error: HTTP Error 404: Not Found\n",
      "2023-06-15  14:23:34 INFO Downloaded file from GDO: input/spg03/spg03_m_wld_20230101_20230501_m.nc\n",
      "2023-06-15  14:23:34 INFO File already exists at: input/spg03/spg03_m_wld_20210101_20211201_m.nc\n",
      "2023-06-15  14:23:34 INFO File already exists at: input/spg03/spg03_m_wld_20220101_20221201_m.nc\n",
      "2023-06-15  14:23:34 INFO File already exists at: input/spg03/spg03_m_wld_20220101_20221101_m.nc\n",
      "2023-06-15  14:23:34 INFO Could not download file: input/spg03/spg03_m_wld_20220101_20220801_m.nc\n",
      "2023-06-15  14:23:34 INFO Error: HTTP Error 404: Not Found\n",
      "2023-06-15  14:23:34 INFO File already exists at: input/spg03/spg03_m_wld_20230101_20230501_m.nc\n",
      "2023-06-15  14:23:34 INFO File already exists at: input/spg03/spg03_m_wld_20210101_20211201_m.nc\n",
      "2023-06-15  14:23:34 INFO File already exists at: input/spg03/spg03_m_wld_20220101_20221201_m.nc\n",
      "2023-06-15  14:23:34 INFO File already exists at: input/spg03/spg03_m_wld_20220101_20221101_m.nc\n",
      "2023-06-15  14:23:35 INFO Could not download file: input/spg03/spg03_m_wld_20220101_20220801_m.nc\n",
      "2023-06-15  14:23:35 INFO Error: HTTP Error 404: Not Found\n",
      "2023-06-15  14:23:35 INFO File already exists at: input/spg03/spg03_m_wld_20230101_20230501_m.nc\n"
     ]
    },
    {
     "data": {
      "text/plain": [
       "['input/spg03/spg03_m_wld_20210101_20211201_m.nc',\n",
       " 'input/spg03/spg03_m_wld_20220101_20221201_m.nc',\n",
       " 'input/spg03/spg03_m_wld_20220101_20221101_m.nc',\n",
       " 'input/spg03/spg03_m_wld_20230101_20230501_m.nc']"
      ]
     },
     "execution_count": 17,
     "metadata": {},
     "output_type": "execute_result"
    }
   ],
   "source": [
    "spi_pt.download()\n",
    "spi_bb.download()\n",
    "spi_pn.download()"
   ]
  },
  {
   "cell_type": "code",
   "execution_count": 18,
   "metadata": {},
   "outputs": [
    {
     "name": "stderr",
     "output_type": "stream",
     "text": [
      "2023-06-15  14:24:14 INFO File already exists at: input/fpanv/fpanv_m_wld_20210101_20211221_t.nc\n",
      "2023-06-15  14:24:14 INFO File already exists at: input/fpanv/fpanv_m_wld_20220101_20221221_t.nc\n",
      "2023-06-15  14:24:21 INFO Downloaded file from GDO: input/fpanv/fpanv_m_wld_20230101_20230521_t.nc\n",
      "2023-06-15  14:24:21 INFO File already exists at: input/fpanv/fpanv_m_wld_20210101_20211221_t.nc\n",
      "2023-06-15  14:24:21 INFO File already exists at: input/fpanv/fpanv_m_wld_20220101_20221221_t.nc\n",
      "2023-06-15  14:24:21 INFO File already exists at: input/fpanv/fpanv_m_wld_20230101_20230521_t.nc\n",
      "2023-06-15  14:24:21 INFO File already exists at: input/fpanv/fpanv_m_wld_20210101_20211221_t.nc\n",
      "2023-06-15  14:24:21 INFO File already exists at: input/fpanv/fpanv_m_wld_20220101_20221221_t.nc\n",
      "2023-06-15  14:24:21 INFO File already exists at: input/fpanv/fpanv_m_wld_20230101_20230521_t.nc\n"
     ]
    },
    {
     "data": {
      "text/plain": [
       "['input/fpanv/fpanv_m_wld_20210101_20211221_t.nc',\n",
       " 'input/fpanv/fpanv_m_wld_20220101_20221221_t.nc',\n",
       " 'input/fpanv/fpanv_m_wld_20230101_20230521_t.nc']"
      ]
     },
     "execution_count": 18,
     "metadata": {},
     "output_type": "execute_result"
    }
   ],
   "source": [
    "fpr_pt.download()\n",
    "fpr_bb.download()\n",
    "fpr_pn.download()"
   ]
  },
  {
   "cell_type": "code",
   "execution_count": 13,
   "metadata": {},
   "outputs": [
    {
     "name": "stderr",
     "output_type": "stream",
     "text": [
      "2023-06-15  14:13:25 WARNING The CovJSON indenting option is no longer working - need to look at\n"
     ]
    },
    {
     "data": {
      "text/html": [
       "<div>\n",
       "<style scoped>\n",
       "    .dataframe tbody tr th:only-of-type {\n",
       "        vertical-align: middle;\n",
       "    }\n",
       "\n",
       "    .dataframe tbody tr th {\n",
       "        vertical-align: top;\n",
       "    }\n",
       "\n",
       "    .dataframe thead th {\n",
       "        text-align: right;\n",
       "    }\n",
       "</style>\n",
       "<table border=\"1\" class=\"dataframe\">\n",
       "  <thead>\n",
       "    <tr style=\"text-align: right;\">\n",
       "      <th></th>\n",
       "      <th>latitude</th>\n",
       "      <th>longitude</th>\n",
       "      <th>time</th>\n",
       "      <th>smant</th>\n",
       "    </tr>\n",
       "  </thead>\n",
       "  <tbody>\n",
       "    <tr>\n",
       "      <th>0</th>\n",
       "      <td>38.55</td>\n",
       "      <td>-119.45</td>\n",
       "      <td>2021-01-21</td>\n",
       "      <td>-0.84</td>\n",
       "    </tr>\n",
       "    <tr>\n",
       "      <th>1</th>\n",
       "      <td>38.55</td>\n",
       "      <td>-119.45</td>\n",
       "      <td>2021-02-01</td>\n",
       "      <td>-0.11</td>\n",
       "    </tr>\n",
       "    <tr>\n",
       "      <th>2</th>\n",
       "      <td>38.55</td>\n",
       "      <td>-119.45</td>\n",
       "      <td>2021-02-11</td>\n",
       "      <td>-0.53</td>\n",
       "    </tr>\n",
       "    <tr>\n",
       "      <th>3</th>\n",
       "      <td>38.55</td>\n",
       "      <td>-119.45</td>\n",
       "      <td>2021-02-21</td>\n",
       "      <td>-1.65</td>\n",
       "    </tr>\n",
       "    <tr>\n",
       "      <th>4</th>\n",
       "      <td>38.55</td>\n",
       "      <td>-119.45</td>\n",
       "      <td>2021-03-01</td>\n",
       "      <td>-2.78</td>\n",
       "    </tr>\n",
       "    <tr>\n",
       "      <th>...</th>\n",
       "      <td>...</td>\n",
       "      <td>...</td>\n",
       "      <td>...</td>\n",
       "      <td>...</td>\n",
       "    </tr>\n",
       "    <tr>\n",
       "      <th>80</th>\n",
       "      <td>38.55</td>\n",
       "      <td>-119.45</td>\n",
       "      <td>2023-04-11</td>\n",
       "      <td>NaN</td>\n",
       "    </tr>\n",
       "    <tr>\n",
       "      <th>81</th>\n",
       "      <td>38.55</td>\n",
       "      <td>-119.45</td>\n",
       "      <td>2023-04-21</td>\n",
       "      <td>NaN</td>\n",
       "    </tr>\n",
       "    <tr>\n",
       "      <th>82</th>\n",
       "      <td>38.55</td>\n",
       "      <td>-119.45</td>\n",
       "      <td>2023-05-01</td>\n",
       "      <td>NaN</td>\n",
       "    </tr>\n",
       "    <tr>\n",
       "      <th>83</th>\n",
       "      <td>38.55</td>\n",
       "      <td>-119.45</td>\n",
       "      <td>2023-05-11</td>\n",
       "      <td>NaN</td>\n",
       "    </tr>\n",
       "    <tr>\n",
       "      <th>84</th>\n",
       "      <td>38.55</td>\n",
       "      <td>-119.45</td>\n",
       "      <td>2023-05-21</td>\n",
       "      <td>NaN</td>\n",
       "    </tr>\n",
       "  </tbody>\n",
       "</table>\n",
       "<p>85 rows × 4 columns</p>\n",
       "</div>"
      ],
      "text/plain": [
       "    latitude  longitude       time  smant\n",
       "0      38.55    -119.45 2021-01-21  -0.84\n",
       "1      38.55    -119.45 2021-02-01  -0.11\n",
       "2      38.55    -119.45 2021-02-11  -0.53\n",
       "3      38.55    -119.45 2021-02-21  -1.65\n",
       "4      38.55    -119.45 2021-03-01  -2.78\n",
       "..       ...        ...        ...    ...\n",
       "80     38.55    -119.45 2023-04-11    NaN\n",
       "81     38.55    -119.45 2023-04-21    NaN\n",
       "82     38.55    -119.45 2023-05-01    NaN\n",
       "83     38.55    -119.45 2023-05-11    NaN\n",
       "84     38.55    -119.45 2023-05-21    NaN\n",
       "\n",
       "[85 rows x 4 columns]"
      ]
     },
     "execution_count": 13,
     "metadata": {},
     "output_type": "execute_result"
    }
   ],
   "source": [
    "sma_pt.process()"
   ]
  },
  {
   "cell_type": "code",
   "execution_count": 14,
   "metadata": {},
   "outputs": [
    {
     "data": {
      "text/html": [
       "<div>\n",
       "<style scoped>\n",
       "    .dataframe tbody tr th:only-of-type {\n",
       "        vertical-align: middle;\n",
       "    }\n",
       "\n",
       "    .dataframe tbody tr th {\n",
       "        vertical-align: top;\n",
       "    }\n",
       "\n",
       "    .dataframe thead th {\n",
       "        text-align: right;\n",
       "    }\n",
       "</style>\n",
       "<table border=\"1\" class=\"dataframe\">\n",
       "  <thead>\n",
       "    <tr style=\"text-align: right;\">\n",
       "      <th></th>\n",
       "      <th>latitude</th>\n",
       "      <th>longitude</th>\n",
       "      <th>time</th>\n",
       "      <th>smant</th>\n",
       "    </tr>\n",
       "  </thead>\n",
       "  <tbody>\n",
       "    <tr>\n",
       "      <th>0</th>\n",
       "      <td>38.55</td>\n",
       "      <td>-119.45</td>\n",
       "      <td>2021-01-21</td>\n",
       "      <td>-0.84</td>\n",
       "    </tr>\n",
       "    <tr>\n",
       "      <th>1</th>\n",
       "      <td>38.55</td>\n",
       "      <td>-119.45</td>\n",
       "      <td>2021-02-01</td>\n",
       "      <td>-0.11</td>\n",
       "    </tr>\n",
       "    <tr>\n",
       "      <th>2</th>\n",
       "      <td>38.55</td>\n",
       "      <td>-119.45</td>\n",
       "      <td>2021-02-11</td>\n",
       "      <td>-0.53</td>\n",
       "    </tr>\n",
       "    <tr>\n",
       "      <th>3</th>\n",
       "      <td>38.55</td>\n",
       "      <td>-119.45</td>\n",
       "      <td>2021-02-21</td>\n",
       "      <td>-1.65</td>\n",
       "    </tr>\n",
       "    <tr>\n",
       "      <th>4</th>\n",
       "      <td>38.55</td>\n",
       "      <td>-119.45</td>\n",
       "      <td>2021-03-01</td>\n",
       "      <td>-2.78</td>\n",
       "    </tr>\n",
       "    <tr>\n",
       "      <th>...</th>\n",
       "      <td>...</td>\n",
       "      <td>...</td>\n",
       "      <td>...</td>\n",
       "      <td>...</td>\n",
       "    </tr>\n",
       "    <tr>\n",
       "      <th>33995</th>\n",
       "      <td>40.45</td>\n",
       "      <td>-117.55</td>\n",
       "      <td>2023-04-11</td>\n",
       "      <td>NaN</td>\n",
       "    </tr>\n",
       "    <tr>\n",
       "      <th>33996</th>\n",
       "      <td>40.45</td>\n",
       "      <td>-117.55</td>\n",
       "      <td>2023-04-21</td>\n",
       "      <td>NaN</td>\n",
       "    </tr>\n",
       "    <tr>\n",
       "      <th>33997</th>\n",
       "      <td>40.45</td>\n",
       "      <td>-117.55</td>\n",
       "      <td>2023-05-01</td>\n",
       "      <td>NaN</td>\n",
       "    </tr>\n",
       "    <tr>\n",
       "      <th>33998</th>\n",
       "      <td>40.45</td>\n",
       "      <td>-117.55</td>\n",
       "      <td>2023-05-11</td>\n",
       "      <td>NaN</td>\n",
       "    </tr>\n",
       "    <tr>\n",
       "      <th>33999</th>\n",
       "      <td>40.45</td>\n",
       "      <td>-117.55</td>\n",
       "      <td>2023-05-21</td>\n",
       "      <td>NaN</td>\n",
       "    </tr>\n",
       "  </tbody>\n",
       "</table>\n",
       "<p>34000 rows × 4 columns</p>\n",
       "</div>"
      ],
      "text/plain": [
       "       latitude  longitude       time  smant\n",
       "0         38.55    -119.45 2021-01-21  -0.84\n",
       "1         38.55    -119.45 2021-02-01  -0.11\n",
       "2         38.55    -119.45 2021-02-11  -0.53\n",
       "3         38.55    -119.45 2021-02-21  -1.65\n",
       "4         38.55    -119.45 2021-03-01  -2.78\n",
       "...         ...        ...        ...    ...\n",
       "33995     40.45    -117.55 2023-04-11    NaN\n",
       "33996     40.45    -117.55 2023-04-21    NaN\n",
       "33997     40.45    -117.55 2023-05-01    NaN\n",
       "33998     40.45    -117.55 2023-05-11    NaN\n",
       "33999     40.45    -117.55 2023-05-21    NaN\n",
       "\n",
       "[34000 rows x 4 columns]"
      ]
     },
     "execution_count": 14,
     "metadata": {},
     "output_type": "execute_result"
    }
   ],
   "source": [
    "sma_bb.process()"
   ]
  },
  {
   "cell_type": "code",
   "execution_count": 15,
   "metadata": {},
   "outputs": [
    {
     "name": "stdout",
     "output_type": "stream",
     "text": [
      "Loading and trimmning data...\n",
      "Filling gaps  in data...\n",
      "Converting to dataframe...\n",
      "Reducing to requested area...\n",
      "Generating output...\n"
     ]
    },
    {
     "name": "stderr",
     "output_type": "stream",
     "text": [
      "2023-06-15  14:19:15 WARNING The CovJSON indenting option is no longer working - need to look at\n"
     ]
    },
    {
     "data": {
      "text/html": [
       "<div>\n",
       "<style scoped>\n",
       "    .dataframe tbody tr th:only-of-type {\n",
       "        vertical-align: middle;\n",
       "    }\n",
       "\n",
       "    .dataframe tbody tr th {\n",
       "        vertical-align: top;\n",
       "    }\n",
       "\n",
       "    .dataframe thead th {\n",
       "        text-align: right;\n",
       "    }\n",
       "</style>\n",
       "<table border=\"1\" class=\"dataframe\">\n",
       "  <thead>\n",
       "    <tr style=\"text-align: right;\">\n",
       "      <th></th>\n",
       "      <th>latitude</th>\n",
       "      <th>longitude</th>\n",
       "      <th>time</th>\n",
       "      <th>smant</th>\n",
       "      <th>mask</th>\n",
       "    </tr>\n",
       "  </thead>\n",
       "  <tbody>\n",
       "    <tr>\n",
       "      <th>65</th>\n",
       "      <td>38.05</td>\n",
       "      <td>-119.45</td>\n",
       "      <td>2022-11-11</td>\n",
       "      <td>NaN</td>\n",
       "      <td>-99999.0</td>\n",
       "    </tr>\n",
       "    <tr>\n",
       "      <th>66</th>\n",
       "      <td>38.05</td>\n",
       "      <td>-119.45</td>\n",
       "      <td>2022-11-21</td>\n",
       "      <td>NaN</td>\n",
       "      <td>-99999.0</td>\n",
       "    </tr>\n",
       "    <tr>\n",
       "      <th>67</th>\n",
       "      <td>38.05</td>\n",
       "      <td>-119.45</td>\n",
       "      <td>2022-12-01</td>\n",
       "      <td>NaN</td>\n",
       "      <td>-99999.0</td>\n",
       "    </tr>\n",
       "    <tr>\n",
       "      <th>68</th>\n",
       "      <td>38.05</td>\n",
       "      <td>-119.45</td>\n",
       "      <td>2022-12-11</td>\n",
       "      <td>NaN</td>\n",
       "      <td>-99999.0</td>\n",
       "    </tr>\n",
       "    <tr>\n",
       "      <th>69</th>\n",
       "      <td>38.05</td>\n",
       "      <td>-119.45</td>\n",
       "      <td>2022-12-21</td>\n",
       "      <td>NaN</td>\n",
       "      <td>-99999.0</td>\n",
       "    </tr>\n",
       "    <tr>\n",
       "      <th>...</th>\n",
       "      <td>...</td>\n",
       "      <td>...</td>\n",
       "      <td>...</td>\n",
       "      <td>...</td>\n",
       "      <td>...</td>\n",
       "    </tr>\n",
       "    <tr>\n",
       "      <th>63745</th>\n",
       "      <td>40.45</td>\n",
       "      <td>-116.55</td>\n",
       "      <td>2023-04-11</td>\n",
       "      <td>NaN</td>\n",
       "      <td>-99999.0</td>\n",
       "    </tr>\n",
       "    <tr>\n",
       "      <th>63746</th>\n",
       "      <td>40.45</td>\n",
       "      <td>-116.55</td>\n",
       "      <td>2023-04-21</td>\n",
       "      <td>NaN</td>\n",
       "      <td>-99999.0</td>\n",
       "    </tr>\n",
       "    <tr>\n",
       "      <th>63747</th>\n",
       "      <td>40.45</td>\n",
       "      <td>-116.55</td>\n",
       "      <td>2023-05-01</td>\n",
       "      <td>NaN</td>\n",
       "      <td>-99999.0</td>\n",
       "    </tr>\n",
       "    <tr>\n",
       "      <th>63748</th>\n",
       "      <td>40.45</td>\n",
       "      <td>-116.55</td>\n",
       "      <td>2023-05-11</td>\n",
       "      <td>NaN</td>\n",
       "      <td>-99999.0</td>\n",
       "    </tr>\n",
       "    <tr>\n",
       "      <th>63749</th>\n",
       "      <td>40.45</td>\n",
       "      <td>-116.55</td>\n",
       "      <td>2023-05-21</td>\n",
       "      <td>NaN</td>\n",
       "      <td>-99999.0</td>\n",
       "    </tr>\n",
       "  </tbody>\n",
       "</table>\n",
       "<p>30860 rows × 5 columns</p>\n",
       "</div>"
      ],
      "text/plain": [
       "       latitude  longitude       time  smant     mask\n",
       "65        38.05    -119.45 2022-11-11    NaN -99999.0\n",
       "66        38.05    -119.45 2022-11-21    NaN -99999.0\n",
       "67        38.05    -119.45 2022-12-01    NaN -99999.0\n",
       "68        38.05    -119.45 2022-12-11    NaN -99999.0\n",
       "69        38.05    -119.45 2022-12-21    NaN -99999.0\n",
       "...         ...        ...        ...    ...      ...\n",
       "63745     40.45    -116.55 2023-04-11    NaN -99999.0\n",
       "63746     40.45    -116.55 2023-04-21    NaN -99999.0\n",
       "63747     40.45    -116.55 2023-05-01    NaN -99999.0\n",
       "63748     40.45    -116.55 2023-05-11    NaN -99999.0\n",
       "63749     40.45    -116.55 2023-05-21    NaN -99999.0\n",
       "\n",
       "[30860 rows x 5 columns]"
      ]
     },
     "execution_count": 15,
     "metadata": {},
     "output_type": "execute_result"
    }
   ],
   "source": [
    "sma_pn.process()"
   ]
  },
  {
   "cell_type": "code",
   "execution_count": 19,
   "metadata": {},
   "outputs": [
    {
     "name": "stderr",
     "output_type": "stream",
     "text": [
      "2023-06-15  14:24:56 WARNING The CovJSON indenting option is no longer working - need to look at\n"
     ]
    },
    {
     "name": "stdout",
     "output_type": "stream",
     "text": [
      "Generating output...\n",
      "Generating output...\n"
     ]
    },
    {
     "name": "stderr",
     "output_type": "stream",
     "text": [
      "2023-06-15  14:25:00 WARNING The CovJSON indenting option is no longer working - need to look at\n"
     ]
    },
    {
     "name": "stdout",
     "output_type": "stream",
     "text": [
      "Generating output...\n"
     ]
    },
    {
     "data": {
      "text/html": [
       "<div>\n",
       "<style scoped>\n",
       "    .dataframe tbody tr th:only-of-type {\n",
       "        vertical-align: middle;\n",
       "    }\n",
       "\n",
       "    .dataframe tbody tr th {\n",
       "        vertical-align: top;\n",
       "    }\n",
       "\n",
       "    .dataframe thead th {\n",
       "        text-align: right;\n",
       "    }\n",
       "</style>\n",
       "<table border=\"1\" class=\"dataframe\">\n",
       "  <thead>\n",
       "    <tr style=\"text-align: right;\">\n",
       "      <th></th>\n",
       "      <th>latitude</th>\n",
       "      <th>longitude</th>\n",
       "      <th>time</th>\n",
       "      <th>spg03</th>\n",
       "      <th>mask</th>\n",
       "    </tr>\n",
       "  </thead>\n",
       "  <tbody>\n",
       "    <tr>\n",
       "      <th>0</th>\n",
       "      <td>38.5</td>\n",
       "      <td>-119.5</td>\n",
       "      <td>2021-02-01</td>\n",
       "      <td>-0.183</td>\n",
       "      <td>1.0</td>\n",
       "    </tr>\n",
       "    <tr>\n",
       "      <th>1</th>\n",
       "      <td>38.5</td>\n",
       "      <td>-119.5</td>\n",
       "      <td>2021-03-01</td>\n",
       "      <td>-0.201</td>\n",
       "      <td>1.0</td>\n",
       "    </tr>\n",
       "    <tr>\n",
       "      <th>2</th>\n",
       "      <td>38.5</td>\n",
       "      <td>-119.5</td>\n",
       "      <td>2021-04-01</td>\n",
       "      <td>-0.578</td>\n",
       "      <td>1.0</td>\n",
       "    </tr>\n",
       "    <tr>\n",
       "      <th>3</th>\n",
       "      <td>38.5</td>\n",
       "      <td>-119.5</td>\n",
       "      <td>2021-05-01</td>\n",
       "      <td>-0.473</td>\n",
       "      <td>1.0</td>\n",
       "    </tr>\n",
       "    <tr>\n",
       "      <th>4</th>\n",
       "      <td>38.5</td>\n",
       "      <td>-119.5</td>\n",
       "      <td>2021-06-01</td>\n",
       "      <td>-0.726</td>\n",
       "      <td>1.0</td>\n",
       "    </tr>\n",
       "    <tr>\n",
       "      <th>...</th>\n",
       "      <td>...</td>\n",
       "      <td>...</td>\n",
       "      <td>...</td>\n",
       "      <td>...</td>\n",
       "      <td>...</td>\n",
       "    </tr>\n",
       "    <tr>\n",
       "      <th>303</th>\n",
       "      <td>40.5</td>\n",
       "      <td>-117.5</td>\n",
       "      <td>2023-01-01</td>\n",
       "      <td>1.139</td>\n",
       "      <td>1.0</td>\n",
       "    </tr>\n",
       "    <tr>\n",
       "      <th>304</th>\n",
       "      <td>40.5</td>\n",
       "      <td>-117.5</td>\n",
       "      <td>2023-02-01</td>\n",
       "      <td>1.175</td>\n",
       "      <td>1.0</td>\n",
       "    </tr>\n",
       "    <tr>\n",
       "      <th>305</th>\n",
       "      <td>40.5</td>\n",
       "      <td>-117.5</td>\n",
       "      <td>2023-03-01</td>\n",
       "      <td>0.664</td>\n",
       "      <td>1.0</td>\n",
       "    </tr>\n",
       "    <tr>\n",
       "      <th>306</th>\n",
       "      <td>40.5</td>\n",
       "      <td>-117.5</td>\n",
       "      <td>2023-04-01</td>\n",
       "      <td>0.129</td>\n",
       "      <td>1.0</td>\n",
       "    </tr>\n",
       "    <tr>\n",
       "      <th>307</th>\n",
       "      <td>40.5</td>\n",
       "      <td>-117.5</td>\n",
       "      <td>2023-05-01</td>\n",
       "      <td>0.494</td>\n",
       "      <td>1.0</td>\n",
       "    </tr>\n",
       "  </tbody>\n",
       "</table>\n",
       "<p>252 rows × 5 columns</p>\n",
       "</div>"
      ],
      "text/plain": [
       "     latitude  longitude       time  spg03  mask\n",
       "0        38.5     -119.5 2021-02-01 -0.183   1.0\n",
       "1        38.5     -119.5 2021-03-01 -0.201   1.0\n",
       "2        38.5     -119.5 2021-04-01 -0.578   1.0\n",
       "3        38.5     -119.5 2021-05-01 -0.473   1.0\n",
       "4        38.5     -119.5 2021-06-01 -0.726   1.0\n",
       "..        ...        ...        ...    ...   ...\n",
       "303      40.5     -117.5 2023-01-01  1.139   1.0\n",
       "304      40.5     -117.5 2023-02-01  1.175   1.0\n",
       "305      40.5     -117.5 2023-03-01  0.664   1.0\n",
       "306      40.5     -117.5 2023-04-01  0.129   1.0\n",
       "307      40.5     -117.5 2023-05-01  0.494   1.0\n",
       "\n",
       "[252 rows x 5 columns]"
      ]
     },
     "execution_count": 19,
     "metadata": {},
     "output_type": "execute_result"
    }
   ],
   "source": [
    "spi_pt.process()\n",
    "spi_bb.process()\n",
    "spi_pn.process()"
   ]
  },
  {
   "cell_type": "code",
   "execution_count": 21,
   "metadata": {},
   "outputs": [
    {
     "name": "stderr",
     "output_type": "stream",
     "text": [
      "2023-06-15  14:27:19 WARNING Outfile not written: already exists\n"
     ]
    },
    {
     "name": "stdout",
     "output_type": "stream",
     "text": [
      "Generating output...\n"
     ]
    },
    {
     "name": "stderr",
     "output_type": "stream",
     "text": [
      "2023-06-15  14:27:21 WARNING Outfile not written: already exists\n"
     ]
    },
    {
     "name": "stdout",
     "output_type": "stream",
     "text": [
      "Generating output...\n"
     ]
    },
    {
     "name": "stderr",
     "output_type": "stream",
     "text": [
      "2023-06-15  14:27:23 WARNING The CovJSON indenting option is no longer working - need to look at\n"
     ]
    },
    {
     "name": "stdout",
     "output_type": "stream",
     "text": [
      "Generating output...\n"
     ]
    },
    {
     "data": {
      "text/html": [
       "<div>\n",
       "<style scoped>\n",
       "    .dataframe tbody tr th:only-of-type {\n",
       "        vertical-align: middle;\n",
       "    }\n",
       "\n",
       "    .dataframe tbody tr th {\n",
       "        vertical-align: top;\n",
       "    }\n",
       "\n",
       "    .dataframe thead th {\n",
       "        text-align: right;\n",
       "    }\n",
       "</style>\n",
       "<table border=\"1\" class=\"dataframe\">\n",
       "  <thead>\n",
       "    <tr style=\"text-align: right;\">\n",
       "      <th></th>\n",
       "      <th>latitude</th>\n",
       "      <th>longitude</th>\n",
       "      <th>time</th>\n",
       "      <th>fpanv</th>\n",
       "      <th>mask</th>\n",
       "    </tr>\n",
       "  </thead>\n",
       "  <tbody>\n",
       "    <tr>\n",
       "      <th>1530</th>\n",
       "      <td>38.042</td>\n",
       "      <td>-117.958</td>\n",
       "      <td>2021-01-21</td>\n",
       "      <td>NaN</td>\n",
       "      <td>1.0</td>\n",
       "    </tr>\n",
       "    <tr>\n",
       "      <th>1531</th>\n",
       "      <td>38.042</td>\n",
       "      <td>-117.958</td>\n",
       "      <td>2021-02-01</td>\n",
       "      <td>NaN</td>\n",
       "      <td>1.0</td>\n",
       "    </tr>\n",
       "    <tr>\n",
       "      <th>1532</th>\n",
       "      <td>38.042</td>\n",
       "      <td>-117.958</td>\n",
       "      <td>2021-02-11</td>\n",
       "      <td>NaN</td>\n",
       "      <td>1.0</td>\n",
       "    </tr>\n",
       "    <tr>\n",
       "      <th>1533</th>\n",
       "      <td>38.042</td>\n",
       "      <td>-117.958</td>\n",
       "      <td>2021-02-21</td>\n",
       "      <td>NaN</td>\n",
       "      <td>1.0</td>\n",
       "    </tr>\n",
       "    <tr>\n",
       "      <th>1534</th>\n",
       "      <td>38.042</td>\n",
       "      <td>-117.958</td>\n",
       "      <td>2021-03-01</td>\n",
       "      <td>NaN</td>\n",
       "      <td>1.0</td>\n",
       "    </tr>\n",
       "    <tr>\n",
       "      <th>...</th>\n",
       "      <td>...</td>\n",
       "      <td>...</td>\n",
       "      <td>...</td>\n",
       "      <td>...</td>\n",
       "      <td>...</td>\n",
       "    </tr>\n",
       "    <tr>\n",
       "      <th>61195</th>\n",
       "      <td>40.458</td>\n",
       "      <td>-117.542</td>\n",
       "      <td>2023-04-11</td>\n",
       "      <td>-1.105</td>\n",
       "      <td>1.0</td>\n",
       "    </tr>\n",
       "    <tr>\n",
       "      <th>61196</th>\n",
       "      <td>40.458</td>\n",
       "      <td>-117.542</td>\n",
       "      <td>2023-04-21</td>\n",
       "      <td>-1.046</td>\n",
       "      <td>1.0</td>\n",
       "    </tr>\n",
       "    <tr>\n",
       "      <th>61197</th>\n",
       "      <td>40.458</td>\n",
       "      <td>-117.542</td>\n",
       "      <td>2023-05-01</td>\n",
       "      <td>-0.627</td>\n",
       "      <td>1.0</td>\n",
       "    </tr>\n",
       "    <tr>\n",
       "      <th>61198</th>\n",
       "      <td>40.458</td>\n",
       "      <td>-117.542</td>\n",
       "      <td>2023-05-11</td>\n",
       "      <td>-0.361</td>\n",
       "      <td>1.0</td>\n",
       "    </tr>\n",
       "    <tr>\n",
       "      <th>61199</th>\n",
       "      <td>40.458</td>\n",
       "      <td>-117.542</td>\n",
       "      <td>2023-05-21</td>\n",
       "      <td>-0.066</td>\n",
       "      <td>1.0</td>\n",
       "    </tr>\n",
       "  </tbody>\n",
       "</table>\n",
       "<p>25245 rows × 5 columns</p>\n",
       "</div>"
      ],
      "text/plain": [
       "       latitude  longitude       time  fpanv  mask\n",
       "1530     38.042   -117.958 2021-01-21    NaN   1.0\n",
       "1531     38.042   -117.958 2021-02-01    NaN   1.0\n",
       "1532     38.042   -117.958 2021-02-11    NaN   1.0\n",
       "1533     38.042   -117.958 2021-02-21    NaN   1.0\n",
       "1534     38.042   -117.958 2021-03-01    NaN   1.0\n",
       "...         ...        ...        ...    ...   ...\n",
       "61195    40.458   -117.542 2023-04-11 -1.105   1.0\n",
       "61196    40.458   -117.542 2023-04-21 -1.046   1.0\n",
       "61197    40.458   -117.542 2023-05-01 -0.627   1.0\n",
       "61198    40.458   -117.542 2023-05-11 -0.361   1.0\n",
       "61199    40.458   -117.542 2023-05-21 -0.066   1.0\n",
       "\n",
       "[25245 rows x 5 columns]"
      ]
     },
     "execution_count": 21,
     "metadata": {},
     "output_type": "execute_result"
    }
   ],
   "source": [
    "fpr_pt.process()\n",
    "fpr_bb.process()\n",
    "fpr_pn.process()"
   ]
  },
  {
   "cell_type": "code",
   "execution_count": 23,
   "metadata": {},
   "outputs": [],
   "source": [
    "caa = config.CDIArgs(aa_pn.latitude,aa_pn.longitude,aa_pn.start_date,aa_pn.end_date,oformat='cov')"
   ]
  },
  {
   "cell_type": "code",
   "execution_count": 24,
   "metadata": {},
   "outputs": [
    {
     "name": "stderr",
     "output_type": "stream",
     "text": [
      "2023-06-15  16:37:39 INFO Successfully retrieved URL for GDO file with year: 2020, prod_code spg03\n",
      "2023-06-15  16:37:39 INFO Successfully retrieved URL for GDO file with year: 2021, prod_code spg03\n",
      "2023-06-15  16:37:40 INFO Successfully retrieved URL for GDO file with year: 2022, prod_code spg03\n",
      "2023-06-15  16:37:40 INFO Successfully retrieved URL for GDO file with year: 2023, prod_code spg03\n",
      "2023-06-15  16:37:40 INFO Successfully retrieved URL for GDO file with year: 2021, prod_code smant\n",
      "2023-06-15  16:37:40 INFO Successfully retrieved URL for GDO file with year: 2022, prod_code smant\n",
      "2023-06-15  16:37:40 INFO Couldn't retrieve URL for GDO file with year: 2023, prod_code smant\n",
      "2023-06-15  16:37:41 INFO Successfully retrieved URL for GDO file with year: 2021, prod_code fpanv\n",
      "2023-06-15  16:37:41 INFO Successfully retrieved URL for GDO file with year: 2022, prod_code fpanv\n",
      "2023-06-15  16:37:41 INFO Successfully retrieved URL for GDO file with year: 2023, prod_code fpanv\n",
      "2023-06-15  16:37:41 INFO File already exists at: input/spg03/spg03_m_wld_20200101_20201201_m.nc\n",
      "2023-06-15  16:37:41 INFO File already exists at: input/spg03/spg03_m_wld_20210101_20211201_m.nc\n",
      "2023-06-15  16:37:41 INFO File already exists at: input/spg03/spg03_m_wld_20220101_20221201_m.nc\n",
      "2023-06-15  16:37:41 INFO File already exists at: input/spg03/spg03_m_wld_20220101_20221101_m.nc\n",
      "2023-06-15  16:37:41 INFO Could not download file: input/spg03/spg03_m_wld_20220101_20220801_m.nc\n",
      "2023-06-15  16:37:41 INFO Error: HTTP Error 404: Not Found\n",
      "2023-06-15  16:37:41 INFO File already exists at: input/spg03/spg03_m_wld_20230101_20230501_m.nc\n",
      "2023-06-15  16:37:41 INFO File already exists at: input/smant/smant_m_wld_20210101_20211221_t.nc\n",
      "2023-06-15  16:37:41 INFO File already exists at: input/smant/smant_m_wld_20220101_20221101_t.nc\n",
      "2023-06-15  16:37:41 INFO Could not download file: input/smant/smant_m_wld_20220101_20220921_t.nc\n",
      "2023-06-15  16:37:41 INFO Error: HTTP Error 404: Not Found\n",
      "2023-06-15  16:37:41 INFO File already exists at: input/fpanv/fpanv_m_wld_20210101_20211221_t.nc\n",
      "2023-06-15  16:37:41 INFO File already exists at: input/fpanv/fpanv_m_wld_20220101_20221221_t.nc\n",
      "2023-06-15  16:37:41 INFO File already exists at: input/fpanv/fpanv_m_wld_20230101_20230521_t.nc\n"
     ]
    },
    {
     "data": {
      "text/plain": [
       "[['input/spg03/spg03_m_wld_20200101_20201201_m.nc',\n",
       "  'input/spg03/spg03_m_wld_20210101_20211201_m.nc',\n",
       "  'input/spg03/spg03_m_wld_20220101_20221201_m.nc',\n",
       "  'input/spg03/spg03_m_wld_20220101_20221101_m.nc',\n",
       "  'input/spg03/spg03_m_wld_20230101_20230501_m.nc'],\n",
       " ['input/smant/smant_m_wld_20210101_20211221_t.nc',\n",
       "  'input/smant/smant_m_wld_20220101_20221101_t.nc'],\n",
       " ['input/fpanv/fpanv_m_wld_20210101_20211221_t.nc',\n",
       "  'input/fpanv/fpanv_m_wld_20220101_20221221_t.nc',\n",
       "  'input/fpanv/fpanv_m_wld_20230101_20230521_t.nc']]"
      ]
     },
     "execution_count": 24,
     "metadata": {},
     "output_type": "execute_result"
    }
   ],
   "source": [
    "cdi = dri.CDI(cf,caa)\n",
    "cdi.download()"
   ]
  },
  {
   "cell_type": "code",
   "execution_count": 26,
   "metadata": {},
   "outputs": [
    {
     "name": "stderr",
     "output_type": "stream",
     "text": [
      "2023-06-15  16:46:11 INFO Computing Combined Drought Indicator...\n"
     ]
    },
    {
     "name": "stdout",
     "output_type": "stream",
     "text": [
      "Loading and trimmning data...\n",
      "Filling gaps  in data...\n",
      "Converting to dataframe...\n",
      "Reducing to requested area...\n"
     ]
    },
    {
     "ename": "ValueError",
     "evalue": "the first argument to .shift must be a dictionary",
     "output_type": "error",
     "traceback": [
      "\u001b[1;31m---------------------------------------------------------------------------\u001b[0m",
      "\u001b[1;31mValueError\u001b[0m                                Traceback (most recent call last)",
      "Cell \u001b[1;32mIn[26], line 1\u001b[0m\n\u001b[1;32m----> 1\u001b[0m cdi\u001b[39m.\u001b[39;49mprocess()\n",
      "File \u001b[1;32mc:\\Users\\eejco\\pixalytics\\Climate-drought\\climate_drought\\drought_indices.py:861\u001b[0m, in \u001b[0;36mCDI.process\u001b[1;34m(self)\u001b[0m\n\u001b[0;32m    856\u001b[0m fpr_filled = da_fpr.reindex({'time':self.time_dekads}).shift({'time':1})\n\u001b[0;32m    858\u001b[0m ds = xr.merge([spi_filled,sma_filled,fpr_filled])\n\u001b[0;32m    860\u001b[0m # Now create CDI with following levels:\n\u001b[1;32m--> 861\u001b[0m # 0: no warning\n\u001b[0;32m    862\u001b[0m # 1: watch = spi < -1\n\u001b[0;32m    863\u001b[0m # 2: warning = sma < -1 and spi < -1\n\u001b[0;32m    864\u001b[0m # 3: alert 1 = fpr < -1 and spi < -1\n\u001b[0;32m    865\u001b[0m # 4: alert 2 = all < -1\n\u001b[0;32m    866\u001b[0m \n\u001b[0;32m    867\u001b[0m # def calc_cdi(r):\n\u001b[0;32m    868\u001b[0m #     spi_ = r[self.args.spi_var] < -1\n\u001b[0;32m    869\u001b[0m #     sma_ = r[self.args.sma_var] < -1\n\u001b[0;32m    870\u001b[0m #     fpr_ = r[self.args.fpr_var] < -1\n\u001b[0;32m    871\u001b[0m #     if r.isna().any():\n\u001b[0;32m    872\u001b[0m #         return np.nan\n\u001b[0;32m    873\u001b[0m #     elif spi_ and sma_ and fpr_:\n\u001b[0;32m    874\u001b[0m #         return 4\n\u001b[0;32m    875\u001b[0m #     elif spi_ and fpr_:\n\u001b[0;32m    876\u001b[0m #         return 3\n\u001b[0;32m    877\u001b[0m #     elif spi_ and sma_:\n\u001b[0;32m    878\u001b[0m #         return 2\n\u001b[0;32m    879\u001b[0m #     elif spi_:\n\u001b[0;32m    880\u001b[0m #         return 1\n\u001b[0;32m    881\u001b[0m #     else:\n\u001b[0;32m    882\u001b[0m #         return 0\n\u001b[0;32m    883\u001b[0m     \n\u001b[0;32m    884\u001b[0m # cdi = self.df_shifted.apply(calc_cdi,axis=1)\n\u001b[0;32m    885\u001b[0m \n\u001b[0;32m    886\u001b[0m # df = self.df_shifted\n\u001b[0;32m    887\u001b[0m # df['CDI'] = cdi\n\u001b[0;32m    888\u001b[0m \n\u001b[0;32m    889\u001b[0m # self.data = df\n\u001b[0;32m    890\u001b[0m \n\u001b[0;32m    891\u001b[0m # # Output to JSON\n\u001b[0;32m    892\u001b[0m # if not os.path.isfile(self.output_file_path):\n\u001b[0;32m    893\u001b[0m #     self.generate_output()\n\u001b[0;32m    894\u001b[0m \n\u001b[0;32m    895\u001b[0m # self.logger.info(\"Completed processing of ERA5 CDI data.\")\n\u001b[0;32m    896\u001b[0m # return df\n\u001b[0;32m    897\u001b[0m return ds\n",
      "File \u001b[1;32mc:\\Users\\eejco\\miniconda3\\envs\\climate_env\\lib\\site-packages\\xarray\\core\\dataarray.py:4534\u001b[0m, in \u001b[0;36mDataArray.shift\u001b[1;34m(self, shifts, fill_value, **shifts_kwargs)\u001b[0m\n\u001b[0;32m   4489\u001b[0m \u001b[39mdef\u001b[39;00m \u001b[39mshift\u001b[39m(\n\u001b[0;32m   4490\u001b[0m     \u001b[39mself\u001b[39m: T_DataArray,\n\u001b[0;32m   4491\u001b[0m     shifts: Mapping[Any, \u001b[39mint\u001b[39m] \u001b[39m|\u001b[39m \u001b[39mNone\u001b[39;00m \u001b[39m=\u001b[39m \u001b[39mNone\u001b[39;00m,\n\u001b[0;32m   4492\u001b[0m     fill_value: Any \u001b[39m=\u001b[39m dtypes\u001b[39m.\u001b[39mNA,\n\u001b[0;32m   4493\u001b[0m     \u001b[39m*\u001b[39m\u001b[39m*\u001b[39mshifts_kwargs: \u001b[39mint\u001b[39m,\n\u001b[0;32m   4494\u001b[0m ) \u001b[39m-\u001b[39m\u001b[39m>\u001b[39m T_DataArray:\n\u001b[0;32m   4495\u001b[0m \u001b[39m    \u001b[39m\u001b[39m\"\"\"Shift this DataArray by an offset along one or more dimensions.\u001b[39;00m\n\u001b[0;32m   4496\u001b[0m \n\u001b[0;32m   4497\u001b[0m \u001b[39m    Only the data is moved; coordinates stay in place. This is consistent\u001b[39;00m\n\u001b[1;32m   (...)\u001b[0m\n\u001b[0;32m   4532\u001b[0m \u001b[39m    Dimensions without coordinates: x\u001b[39;00m\n\u001b[0;32m   4533\u001b[0m \u001b[39m    \"\"\"\u001b[39;00m\n\u001b[1;32m-> 4534\u001b[0m     variable \u001b[39m=\u001b[39m \u001b[39mself\u001b[39;49m\u001b[39m.\u001b[39;49mvariable\u001b[39m.\u001b[39;49mshift(\n\u001b[0;32m   4535\u001b[0m         shifts\u001b[39m=\u001b[39;49mshifts, fill_value\u001b[39m=\u001b[39;49mfill_value, \u001b[39m*\u001b[39;49m\u001b[39m*\u001b[39;49mshifts_kwargs\n\u001b[0;32m   4536\u001b[0m     )\n\u001b[0;32m   4537\u001b[0m     \u001b[39mreturn\u001b[39;00m \u001b[39mself\u001b[39m\u001b[39m.\u001b[39m_replace(variable\u001b[39m=\u001b[39mvariable)\n",
      "File \u001b[1;32mc:\\Users\\eejco\\miniconda3\\envs\\climate_env\\lib\\site-packages\\xarray\\core\\variable.py:1403\u001b[0m, in \u001b[0;36mVariable.shift\u001b[1;34m(self, shifts, fill_value, **shifts_kwargs)\u001b[0m\n\u001b[0;32m   1382\u001b[0m \u001b[39mdef\u001b[39;00m \u001b[39mshift\u001b[39m(\u001b[39mself\u001b[39m, shifts\u001b[39m=\u001b[39m\u001b[39mNone\u001b[39;00m, fill_value\u001b[39m=\u001b[39mdtypes\u001b[39m.\u001b[39mNA, \u001b[39m*\u001b[39m\u001b[39m*\u001b[39mshifts_kwargs):\n\u001b[0;32m   1383\u001b[0m \u001b[39m    \u001b[39m\u001b[39m\"\"\"\u001b[39;00m\n\u001b[0;32m   1384\u001b[0m \u001b[39m    Return a new Variable with shifted data.\u001b[39;00m\n\u001b[0;32m   1385\u001b[0m \n\u001b[1;32m   (...)\u001b[0m\n\u001b[0;32m   1401\u001b[0m \u001b[39m        Variable with the same dimensions and attributes but shifted data.\u001b[39;00m\n\u001b[0;32m   1402\u001b[0m \u001b[39m    \"\"\"\u001b[39;00m\n\u001b[1;32m-> 1403\u001b[0m     shifts \u001b[39m=\u001b[39m either_dict_or_kwargs(shifts, shifts_kwargs, \u001b[39m\"\u001b[39;49m\u001b[39mshift\u001b[39;49m\u001b[39m\"\u001b[39;49m)\n\u001b[0;32m   1404\u001b[0m     result \u001b[39m=\u001b[39m \u001b[39mself\u001b[39m\n\u001b[0;32m   1405\u001b[0m     \u001b[39mfor\u001b[39;00m dim, count \u001b[39min\u001b[39;00m shifts\u001b[39m.\u001b[39mitems():\n",
      "File \u001b[1;32mc:\\Users\\eejco\\miniconda3\\envs\\climate_env\\lib\\site-packages\\xarray\\core\\utils.py:279\u001b[0m, in \u001b[0;36meither_dict_or_kwargs\u001b[1;34m(pos_kwargs, kw_kwargs, func_name)\u001b[0m\n\u001b[0;32m    276\u001b[0m     \u001b[39mreturn\u001b[39;00m cast(Mapping[Hashable, T], kw_kwargs)\n\u001b[0;32m    278\u001b[0m \u001b[39mif\u001b[39;00m \u001b[39mnot\u001b[39;00m is_dict_like(pos_kwargs):\n\u001b[1;32m--> 279\u001b[0m     \u001b[39mraise\u001b[39;00m \u001b[39mValueError\u001b[39;00m(\u001b[39mf\u001b[39m\u001b[39m\"\u001b[39m\u001b[39mthe first argument to .\u001b[39m\u001b[39m{\u001b[39;00mfunc_name\u001b[39m}\u001b[39;00m\u001b[39m must be a dictionary\u001b[39m\u001b[39m\"\u001b[39m)\n\u001b[0;32m    280\u001b[0m \u001b[39mif\u001b[39;00m kw_kwargs:\n\u001b[0;32m    281\u001b[0m     \u001b[39mraise\u001b[39;00m \u001b[39mValueError\u001b[39;00m(\n\u001b[0;32m    282\u001b[0m         \u001b[39mf\u001b[39m\u001b[39m\"\u001b[39m\u001b[39mcannot specify both keyword and positional arguments to .\u001b[39m\u001b[39m{\u001b[39;00mfunc_name\u001b[39m}\u001b[39;00m\u001b[39m\"\u001b[39m\n\u001b[0;32m    283\u001b[0m     )\n",
      "\u001b[1;31mValueError\u001b[0m: the first argument to .shift must be a dictionary"
     ]
    }
   ],
   "source": [
    "cdi.process()"
   ]
  }
 ],
 "metadata": {
  "kernelspec": {
   "display_name": "climate_env",
   "language": "python",
   "name": "python3"
  },
  "language_info": {
   "codemirror_mode": {
    "name": "ipython",
    "version": 3
   },
   "file_extension": ".py",
   "mimetype": "text/x-python",
   "name": "python",
   "nbconvert_exporter": "python",
   "pygments_lexer": "ipython3",
   "version": "3.8.16"
  },
  "orig_nbformat": 4,
  "vscode": {
   "interpreter": {
    "hash": "14944716bd77819cc98e0777f574eeb066b7d8a3e92800e5d93184d7ebe696e1"
   }
  }
 },
 "nbformat": 4,
 "nbformat_minor": 2
}
